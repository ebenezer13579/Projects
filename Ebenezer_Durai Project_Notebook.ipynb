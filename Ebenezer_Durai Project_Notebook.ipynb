{
 "cells": [
  {
   "cell_type": "code",
   "execution_count": 1,
   "metadata": {},
   "outputs": [],
   "source": [
    "#!pip install rich opendatasets  "
   ]
  },
  {
   "cell_type": "code",
   "execution_count": 2,
   "metadata": {},
   "outputs": [],
   "source": [
    "import pandas as pd\n",
    "import numpy as np\n",
    "import matplotlib.pyplot as plt\n",
    "import seaborn as sns\n",
    "import os\n",
    "import opendatasets as od\n",
    "from rich.console import Console\n",
    "from sklearn.preprocessing import StandardScaler\n",
    "from sklearn.model_selection import train_test_split\n",
    "from sklearn.ensemble import RandomForestClassifier\n",
    "from xgboost import XGBClassifier\n",
    "from sklearn.metrics import accuracy_score, confusion_matrix, classification_report, roc_curve, auc\n",
    "from collections import Counter\n",
    "from imblearn.under_sampling import RandomUnderSampler\n",
    "import warnings\n",
    "warnings.filterwarnings(\"ignore\")\n",
    "console = Console()"
   ]
  },
  {
   "cell_type": "markdown",
   "metadata": {},
   "source": [
    "## Import the Data\n",
    "### Download Data from Kaggle\n",
    "   We will use the opendatasets library to download the dataset. We will be needing the Kaggle API key (a file called kaggle.json) to get authentication from your  kaggle profile account."
   ]
  },
  {
   "cell_type": "code",
   "execution_count": 3,
   "metadata": {},
   "outputs": [
    {
     "name": "stdout",
     "output_type": "stream",
     "text": [
      "Skipping, found downloaded files in \".\\paysim1\" (use force=True to force download)\n"
     ]
    },
    {
     "data": {
      "text/html": [
       "<pre style=\"white-space:pre;overflow-x:auto;line-height:normal;font-family:Menlo,'DejaVu Sans Mono',consolas,'Courier New',monospace\"><span style=\"color: #0000ff; text-decoration-color: #0000ff\">Folders: .ipynb_checkpoints     .jovianrc       Ebenezer_Durai Project_Notebook.ipynb   </span>\n",
       "<span style=\"color: #0000ff; text-decoration-color: #0000ff\">Ebenezer_Durai_project_Report.docx      kaggle.json     paysim1 project1.pptx   </span>\n",
       "<span style=\"color: #0000ff; text-decoration-color: #0000ff\">~$project1.pptx</span>\n",
       "</pre>\n"
      ],
      "text/plain": [
       "\u001b[94mFolders: .ipynb_checkpoints \u001b[0m\u001b[94m    \u001b[0m\u001b[94m.jovianrc \u001b[0m\u001b[94m      \u001b[0m\u001b[94mEbenezer_Durai Project_Notebook.ipynb \u001b[0m\u001b[94m  \u001b[0m\n",
       "\u001b[94mEbenezer_Durai_project_Report.docx \u001b[0m\u001b[94m     \u001b[0m\u001b[94mkaggle.json \u001b[0m\u001b[94m    \u001b[0m\u001b[94mpaysim1 \u001b[0m\u001b[94mproject1.pptx \u001b[0m\u001b[94m  \u001b[0m\n",
       "\u001b[94m~$project1.pptx\u001b[0m\n"
      ]
     },
     "metadata": {},
     "output_type": "display_data"
    },
    {
     "data": {
      "text/html": [
       "<pre style=\"white-space:pre;overflow-x:auto;line-height:normal;font-family:Menlo,'DejaVu Sans Mono',consolas,'Courier New',monospace\"><span style=\"color: #008000; text-decoration-color: #008000\">File name: PS_20174392719_1491204439457_log.csv</span>\n",
       "</pre>\n"
      ],
      "text/plain": [
       "\u001b[32mFile name: PS_20174392719_1491204439457_log.csv\u001b[0m\n"
      ]
     },
     "metadata": {},
     "output_type": "display_data"
    }
   ],
   "source": [
    "#Download the datasets from kaggle\n",
    "dataset_url = \"https://www.kaggle.com/ealaxi/paysim1\"\n",
    "od.download(dataset_url)\n",
    "data_dir = \"paysim1\"\n",
    "console.print('Folders:', '\\t'.join(os.listdir()), style='bright_blue')\n",
    "console.print(\"File name:\",''.join(os.listdir(data_dir)), style='green')"
   ]
  },
  {
   "cell_type": "code",
   "execution_count": 4,
   "metadata": {
    "scrolled": false
   },
   "outputs": [
    {
     "data": {
      "text/html": [
       "<div>\n",
       "<style scoped>\n",
       "    .dataframe tbody tr th:only-of-type {\n",
       "        vertical-align: middle;\n",
       "    }\n",
       "\n",
       "    .dataframe tbody tr th {\n",
       "        vertical-align: top;\n",
       "    }\n",
       "\n",
       "    .dataframe thead th {\n",
       "        text-align: right;\n",
       "    }\n",
       "</style>\n",
       "<table border=\"1\" class=\"dataframe\">\n",
       "  <thead>\n",
       "    <tr style=\"text-align: right;\">\n",
       "      <th></th>\n",
       "      <th>step</th>\n",
       "      <th>type</th>\n",
       "      <th>amount</th>\n",
       "      <th>nameOrig</th>\n",
       "      <th>oldbalanceOrg</th>\n",
       "      <th>newbalanceOrig</th>\n",
       "      <th>nameDest</th>\n",
       "      <th>oldbalanceDest</th>\n",
       "      <th>newbalanceDest</th>\n",
       "      <th>isFraud</th>\n",
       "      <th>isFlaggedFraud</th>\n",
       "    </tr>\n",
       "  </thead>\n",
       "  <tbody>\n",
       "    <tr>\n",
       "      <th>0</th>\n",
       "      <td>1</td>\n",
       "      <td>PAYMENT</td>\n",
       "      <td>9839.64</td>\n",
       "      <td>C1231006815</td>\n",
       "      <td>170136.0</td>\n",
       "      <td>160296.36</td>\n",
       "      <td>M1979787155</td>\n",
       "      <td>0.0</td>\n",
       "      <td>0.0</td>\n",
       "      <td>0</td>\n",
       "      <td>0</td>\n",
       "    </tr>\n",
       "    <tr>\n",
       "      <th>1</th>\n",
       "      <td>1</td>\n",
       "      <td>PAYMENT</td>\n",
       "      <td>1864.28</td>\n",
       "      <td>C1666544295</td>\n",
       "      <td>21249.0</td>\n",
       "      <td>19384.72</td>\n",
       "      <td>M2044282225</td>\n",
       "      <td>0.0</td>\n",
       "      <td>0.0</td>\n",
       "      <td>0</td>\n",
       "      <td>0</td>\n",
       "    </tr>\n",
       "    <tr>\n",
       "      <th>2</th>\n",
       "      <td>1</td>\n",
       "      <td>TRANSFER</td>\n",
       "      <td>181.00</td>\n",
       "      <td>C1305486145</td>\n",
       "      <td>181.0</td>\n",
       "      <td>0.00</td>\n",
       "      <td>C553264065</td>\n",
       "      <td>0.0</td>\n",
       "      <td>0.0</td>\n",
       "      <td>1</td>\n",
       "      <td>0</td>\n",
       "    </tr>\n",
       "    <tr>\n",
       "      <th>3</th>\n",
       "      <td>1</td>\n",
       "      <td>CASH_OUT</td>\n",
       "      <td>181.00</td>\n",
       "      <td>C840083671</td>\n",
       "      <td>181.0</td>\n",
       "      <td>0.00</td>\n",
       "      <td>C38997010</td>\n",
       "      <td>21182.0</td>\n",
       "      <td>0.0</td>\n",
       "      <td>1</td>\n",
       "      <td>0</td>\n",
       "    </tr>\n",
       "    <tr>\n",
       "      <th>4</th>\n",
       "      <td>1</td>\n",
       "      <td>PAYMENT</td>\n",
       "      <td>11668.14</td>\n",
       "      <td>C2048537720</td>\n",
       "      <td>41554.0</td>\n",
       "      <td>29885.86</td>\n",
       "      <td>M1230701703</td>\n",
       "      <td>0.0</td>\n",
       "      <td>0.0</td>\n",
       "      <td>0</td>\n",
       "      <td>0</td>\n",
       "    </tr>\n",
       "  </tbody>\n",
       "</table>\n",
       "</div>"
      ],
      "text/plain": [
       "   step      type    amount     nameOrig  oldbalanceOrg  newbalanceOrig  \\\n",
       "0     1   PAYMENT   9839.64  C1231006815       170136.0       160296.36   \n",
       "1     1   PAYMENT   1864.28  C1666544295        21249.0        19384.72   \n",
       "2     1  TRANSFER    181.00  C1305486145          181.0            0.00   \n",
       "3     1  CASH_OUT    181.00   C840083671          181.0            0.00   \n",
       "4     1   PAYMENT  11668.14  C2048537720        41554.0        29885.86   \n",
       "\n",
       "      nameDest  oldbalanceDest  newbalanceDest  isFraud  isFlaggedFraud  \n",
       "0  M1979787155             0.0             0.0        0               0  \n",
       "1  M2044282225             0.0             0.0        0               0  \n",
       "2   C553264065             0.0             0.0        1               0  \n",
       "3    C38997010         21182.0             0.0        1               0  \n",
       "4  M1230701703             0.0             0.0        0               0  "
      ]
     },
     "execution_count": 4,
     "metadata": {},
     "output_type": "execute_result"
    }
   ],
   "source": [
    "df = pd.read_csv(r'paysim1\\PS_20174392719_1491204439457_log.csv')\n",
    "df.head()"
   ]
  },
  {
   "cell_type": "code",
   "execution_count": 5,
   "metadata": {},
   "outputs": [
    {
     "data": {
      "text/html": [
       "<pre style=\"white-space:pre;overflow-x:auto;line-height:normal;font-family:Menlo,'DejaVu Sans Mono',consolas,'Courier New',monospace\"><span style=\"font-weight: bold\">Shape:</span> <span style=\"font-weight: bold\">(</span><span style=\"color: #008080; text-decoration-color: #008080; font-weight: bold\">6362620</span>, <span style=\"color: #008080; text-decoration-color: #008080; font-weight: bold\">11</span><span style=\"font-weight: bold\">)</span>\n",
       "</pre>\n"
      ],
      "text/plain": [
       "\u001b[1mShape:\u001b[0m \u001b[1m(\u001b[0m\u001b[1;36m6362620\u001b[0m, \u001b[1;36m11\u001b[0m\u001b[1m)\u001b[0m\n"
      ]
     },
     "metadata": {},
     "output_type": "display_data"
    },
    {
     "data": {
      "text/html": [
       "<pre style=\"white-space:pre;overflow-x:auto;line-height:normal;font-family:Menlo,'DejaVu Sans Mono',consolas,'Courier New',monospace\"><span style=\"font-weight: bold\">size:</span> <span style=\"color: #008080; text-decoration-color: #008080; font-weight: bold\">69</span>,<span style=\"color: #008080; text-decoration-color: #008080; font-weight: bold\">988</span>,<span style=\"color: #008080; text-decoration-color: #008080; font-weight: bold\">820</span>\n",
       "</pre>\n"
      ],
      "text/plain": [
       "\u001b[1msize:\u001b[0m \u001b[1;36m69\u001b[0m,\u001b[1;36m988\u001b[0m,\u001b[1;36m820\u001b[0m\n"
      ]
     },
     "metadata": {},
     "output_type": "display_data"
    }
   ],
   "source": [
    "console.print(f\"[bold]Shape:[/] {df.shape}\")\n",
    "console.print(f\"[bold]size:[/] {df.size:,}\")"
   ]
  },
  {
   "cell_type": "code",
   "execution_count": 6,
   "metadata": {},
   "outputs": [
    {
     "name": "stdout",
     "output_type": "stream",
     "text": [
      "<class 'pandas.core.frame.DataFrame'>\n",
      "RangeIndex: 6362620 entries, 0 to 6362619\n",
      "Data columns (total 11 columns):\n",
      " #   Column          Dtype  \n",
      "---  ------          -----  \n",
      " 0   step            int64  \n",
      " 1   type            object \n",
      " 2   amount          float64\n",
      " 3   nameOrig        object \n",
      " 4   oldbalanceOrg   float64\n",
      " 5   newbalanceOrig  float64\n",
      " 6   nameDest        object \n",
      " 7   oldbalanceDest  float64\n",
      " 8   newbalanceDest  float64\n",
      " 9   isFraud         int64  \n",
      " 10  isFlaggedFraud  int64  \n",
      "dtypes: float64(5), int64(3), object(3)\n",
      "memory usage: 534.0+ MB\n"
     ]
    }
   ],
   "source": [
    "df.info()"
   ]
  },
  {
   "cell_type": "markdown",
   "metadata": {},
   "source": [
    "## What does the columns mean\n",
    "\n",
    "step - maps a unit of time in the real world. In this case 1 step is 1 hour of time. Total steps 744 (30 days simulation).\n",
    "\n",
    "type - CASH-IN, CASH-OUT, DEBIT, PAYMENT and TRANSFER.\n",
    "\n",
    "amount -\n",
    "amount of the transaction in local currency.\n",
    "\n",
    "nameOrig - customer who started the transaction\n",
    "\n",
    "oldbalanceOrg - initial balance before the transaction\n",
    "\n",
    "newbalanceOrig - new balance after the transaction\n",
    "\n",
    "nameDest - customer who is the recipient of the transaction\n",
    "\n",
    "oldbalanceDest - initial balance recipient before the transaction. Note that there is not information for customers that start with M (Merchants).\n",
    "\n",
    "newbalanceDest - new balance recipient after the transaction. Note that there is not information for customers that start with M (Merchants).\n",
    "\n",
    "isFraud - This is the transactions made by the fraudulent agents inside the simulation. In this specific dataset the fraudulent behavior of the agents aims to profit by taking control or customers accounts and try to empty the funds by transferring to another account and then cashing out of the system.\n",
    "\n",
    "isFlaggedFraud - The business model aims to control massive transfers from one account to another and flags illegal attempts. An illegal attempt in this dataset is an attempt to transfer more than 200.000 in a single transaction."
   ]
  },
  {
   "cell_type": "markdown",
   "metadata": {},
   "source": [
    "## Exploratory Data Analysis"
   ]
  },
  {
   "cell_type": "code",
   "execution_count": 7,
   "metadata": {},
   "outputs": [
    {
     "data": {
      "text/html": [
       "<pre style=\"white-space:pre;overflow-x:auto;line-height:normal;font-family:Menlo,'DejaVu Sans Mono',consolas,'Courier New',monospace\"><span style=\"color: #ff0000; text-decoration-color: #ff0000; font-weight: bold; text-decoration: underline\">Check for Null values</span>\n",
       "</pre>\n"
      ],
      "text/plain": [
       "\u001b[1;4;91mCheck for Null values\u001b[0m\n"
      ]
     },
     "metadata": {},
     "output_type": "display_data"
    },
    {
     "data": {
      "text/html": [
       "<pre style=\"white-space:pre;overflow-x:auto;line-height:normal;font-family:Menlo,'DejaVu Sans Mono',consolas,'Courier New',monospace\"><span style=\"font-weight: bold\">Null Values: </span><span style=\"color: #008000; text-decoration-color: #008000; font-weight: bold; font-style: italic\">False</span>\n",
       "</pre>\n"
      ],
      "text/plain": [
       "\u001b[1mNull Values: \u001b[0m\u001b[1;3;32mFalse\u001b[0m\n"
      ]
     },
     "metadata": {},
     "output_type": "display_data"
    },
    {
     "data": {
      "text/html": [
       "<pre style=\"white-space:pre;overflow-x:auto;line-height:normal;font-family:Menlo,'DejaVu Sans Mono',consolas,'Courier New',monospace\"><span style=\"color: #808080; text-decoration-color: #808080; font-weight: bold\">step              </span><span style=\"color: #008080; text-decoration-color: #008080; font-weight: bold\">0</span>\n",
       "<span style=\"color: #808080; text-decoration-color: #808080; font-weight: bold\">type              </span><span style=\"color: #008080; text-decoration-color: #008080; font-weight: bold\">0</span>\n",
       "<span style=\"color: #808080; text-decoration-color: #808080; font-weight: bold\">amount            </span><span style=\"color: #008080; text-decoration-color: #008080; font-weight: bold\">0</span>\n",
       "<span style=\"color: #808080; text-decoration-color: #808080; font-weight: bold\">nameOrig          </span><span style=\"color: #008080; text-decoration-color: #008080; font-weight: bold\">0</span>\n",
       "<span style=\"color: #808080; text-decoration-color: #808080; font-weight: bold\">oldbalanceOrg     </span><span style=\"color: #008080; text-decoration-color: #008080; font-weight: bold\">0</span>\n",
       "<span style=\"color: #808080; text-decoration-color: #808080; font-weight: bold\">newbalanceOrig    </span><span style=\"color: #008080; text-decoration-color: #008080; font-weight: bold\">0</span>\n",
       "<span style=\"color: #808080; text-decoration-color: #808080; font-weight: bold\">nameDest          </span><span style=\"color: #008080; text-decoration-color: #008080; font-weight: bold\">0</span>\n",
       "<span style=\"color: #808080; text-decoration-color: #808080; font-weight: bold\">oldbalanceDest    </span><span style=\"color: #008080; text-decoration-color: #008080; font-weight: bold\">0</span>\n",
       "<span style=\"color: #808080; text-decoration-color: #808080; font-weight: bold\">newbalanceDest    </span><span style=\"color: #008080; text-decoration-color: #008080; font-weight: bold\">0</span>\n",
       "<span style=\"color: #808080; text-decoration-color: #808080; font-weight: bold\">isFraud           </span><span style=\"color: #008080; text-decoration-color: #008080; font-weight: bold\">0</span>\n",
       "<span style=\"color: #808080; text-decoration-color: #808080; font-weight: bold\">isFlaggedFraud    </span><span style=\"color: #008080; text-decoration-color: #008080; font-weight: bold\">0</span>\n",
       "<span style=\"color: #808080; text-decoration-color: #808080; font-weight: bold\">dtype: int64</span>\n",
       "</pre>\n"
      ],
      "text/plain": [
       "\u001b[1;90mstep              \u001b[0m\u001b[1;36m0\u001b[0m\n",
       "\u001b[1;90mtype              \u001b[0m\u001b[1;36m0\u001b[0m\n",
       "\u001b[1;90mamount            \u001b[0m\u001b[1;36m0\u001b[0m\n",
       "\u001b[1;90mnameOrig          \u001b[0m\u001b[1;36m0\u001b[0m\n",
       "\u001b[1;90moldbalanceOrg     \u001b[0m\u001b[1;36m0\u001b[0m\n",
       "\u001b[1;90mnewbalanceOrig    \u001b[0m\u001b[1;36m0\u001b[0m\n",
       "\u001b[1;90mnameDest          \u001b[0m\u001b[1;36m0\u001b[0m\n",
       "\u001b[1;90moldbalanceDest    \u001b[0m\u001b[1;36m0\u001b[0m\n",
       "\u001b[1;90mnewbalanceDest    \u001b[0m\u001b[1;36m0\u001b[0m\n",
       "\u001b[1;90misFraud           \u001b[0m\u001b[1;36m0\u001b[0m\n",
       "\u001b[1;90misFlaggedFraud    \u001b[0m\u001b[1;36m0\u001b[0m\n",
       "\u001b[1;90mdtype: int64\u001b[0m\n"
      ]
     },
     "metadata": {},
     "output_type": "display_data"
    }
   ],
   "source": [
    "#Check Null values\n",
    "console.print('Check for Null values', style='bold underline bright_red')\n",
    "console.print(f'[bold]Null Values: [green]{df.isnull().values.any()}[/]')\n",
    "console.print(df.isnull().sum(), style='bold bright_black')"
   ]
  },
  {
   "cell_type": "code",
   "execution_count": 8,
   "metadata": {},
   "outputs": [
    {
     "data": {
      "image/png": "[encoded data removed]",
      "text/plain": [
       "<Figure size 1800x6480 with 8 Axes>"
      ]
     },
     "metadata": {
      "needs_background": "light"
     },
     "output_type": "display_data"
    }
   ],
   "source": [
    "#checking for outliers\n",
    "plt.figure(figsize=(25, 90))\n",
    "for i, col in enumerate(df.select_dtypes(exclude='object').columns.values, 1):\n",
    "    plt.subplot(20, 3, i)\n",
    "    sns.boxplot(df[col])\n",
    "    plt.ylabel(col)\n",
    "plt.show()"
   ]
  },
  {
   "cell_type": "code",
   "execution_count": 9,
   "metadata": {},
   "outputs": [
    {
     "data": {
      "text/html": [
       "<div>\n",
       "<style scoped>\n",
       "    .dataframe tbody tr th:only-of-type {\n",
       "        vertical-align: middle;\n",
       "    }\n",
       "\n",
       "    .dataframe tbody tr th {\n",
       "        vertical-align: top;\n",
       "    }\n",
       "\n",
       "    .dataframe thead th {\n",
       "        text-align: right;\n",
       "    }\n",
       "</style>\n",
       "<table border=\"1\" class=\"dataframe\">\n",
       "  <thead>\n",
       "    <tr style=\"text-align: right;\">\n",
       "      <th></th>\n",
       "      <th>step</th>\n",
       "      <th>amount</th>\n",
       "      <th>oldbalanceOrg</th>\n",
       "      <th>newbalanceOrig</th>\n",
       "      <th>oldbalanceDest</th>\n",
       "      <th>newbalanceDest</th>\n",
       "      <th>isFraud</th>\n",
       "      <th>isFlaggedFraud</th>\n",
       "    </tr>\n",
       "  </thead>\n",
       "  <tbody>\n",
       "    <tr>\n",
       "      <th>count</th>\n",
       "      <td>6.362620e+06</td>\n",
       "      <td>6.362620e+06</td>\n",
       "      <td>6.362620e+06</td>\n",
       "      <td>6.362620e+06</td>\n",
       "      <td>6.362620e+06</td>\n",
       "      <td>6.362620e+06</td>\n",
       "      <td>6.362620e+06</td>\n",
       "      <td>6.362620e+06</td>\n",
       "    </tr>\n",
       "    <tr>\n",
       "      <th>mean</th>\n",
       "      <td>2.433972e+02</td>\n",
       "      <td>1.798619e+05</td>\n",
       "      <td>8.338831e+05</td>\n",
       "      <td>8.551137e+05</td>\n",
       "      <td>1.100702e+06</td>\n",
       "      <td>1.224996e+06</td>\n",
       "      <td>1.290820e-03</td>\n",
       "      <td>2.514687e-06</td>\n",
       "    </tr>\n",
       "    <tr>\n",
       "      <th>std</th>\n",
       "      <td>1.423320e+02</td>\n",
       "      <td>6.038582e+05</td>\n",
       "      <td>2.888243e+06</td>\n",
       "      <td>2.924049e+06</td>\n",
       "      <td>3.399180e+06</td>\n",
       "      <td>3.674129e+06</td>\n",
       "      <td>3.590480e-02</td>\n",
       "      <td>1.585775e-03</td>\n",
       "    </tr>\n",
       "    <tr>\n",
       "      <th>min</th>\n",
       "      <td>1.000000e+00</td>\n",
       "      <td>0.000000e+00</td>\n",
       "      <td>0.000000e+00</td>\n",
       "      <td>0.000000e+00</td>\n",
       "      <td>0.000000e+00</td>\n",
       "      <td>0.000000e+00</td>\n",
       "      <td>0.000000e+00</td>\n",
       "      <td>0.000000e+00</td>\n",
       "    </tr>\n",
       "    <tr>\n",
       "      <th>25%</th>\n",
       "      <td>1.560000e+02</td>\n",
       "      <td>1.338957e+04</td>\n",
       "      <td>0.000000e+00</td>\n",
       "      <td>0.000000e+00</td>\n",
       "      <td>0.000000e+00</td>\n",
       "      <td>0.000000e+00</td>\n",
       "      <td>0.000000e+00</td>\n",
       "      <td>0.000000e+00</td>\n",
       "    </tr>\n",
       "    <tr>\n",
       "      <th>50%</th>\n",
       "      <td>2.390000e+02</td>\n",
       "      <td>7.487194e+04</td>\n",
       "      <td>1.420800e+04</td>\n",
       "      <td>0.000000e+00</td>\n",
       "      <td>1.327057e+05</td>\n",
       "      <td>2.146614e+05</td>\n",
       "      <td>0.000000e+00</td>\n",
       "      <td>0.000000e+00</td>\n",
       "    </tr>\n",
       "    <tr>\n",
       "      <th>75%</th>\n",
       "      <td>3.350000e+02</td>\n",
       "      <td>2.087215e+05</td>\n",
       "      <td>1.073152e+05</td>\n",
       "      <td>1.442584e+05</td>\n",
       "      <td>9.430367e+05</td>\n",
       "      <td>1.111909e+06</td>\n",
       "      <td>0.000000e+00</td>\n",
       "      <td>0.000000e+00</td>\n",
       "    </tr>\n",
       "    <tr>\n",
       "      <th>max</th>\n",
       "      <td>7.430000e+02</td>\n",
       "      <td>9.244552e+07</td>\n",
       "      <td>5.958504e+07</td>\n",
       "      <td>4.958504e+07</td>\n",
       "      <td>3.560159e+08</td>\n",
       "      <td>3.561793e+08</td>\n",
       "      <td>1.000000e+00</td>\n",
       "      <td>1.000000e+00</td>\n",
       "    </tr>\n",
       "  </tbody>\n",
       "</table>\n",
       "</div>"
      ],
      "text/plain": [
       "               step        amount  oldbalanceOrg  newbalanceOrig  \\\n",
       "count  6.362620e+06  6.362620e+06   6.362620e+06    6.362620e+06   \n",
       "mean   2.433972e+02  1.798619e+05   8.338831e+05    8.551137e+05   \n",
       "std    1.423320e+02  6.038582e+05   2.888243e+06    2.924049e+06   \n",
       "min    1.000000e+00  0.000000e+00   0.000000e+00    0.000000e+00   \n",
       "25%    1.560000e+02  1.338957e+04   0.000000e+00    0.000000e+00   \n",
       "50%    2.390000e+02  7.487194e+04   1.420800e+04    0.000000e+00   \n",
       "75%    3.350000e+02  2.087215e+05   1.073152e+05    1.442584e+05   \n",
       "max    7.430000e+02  9.244552e+07   5.958504e+07    4.958504e+07   \n",
       "\n",
       "       oldbalanceDest  newbalanceDest       isFraud  isFlaggedFraud  \n",
       "count    6.362620e+06    6.362620e+06  6.362620e+06    6.362620e+06  \n",
       "mean     1.100702e+06    1.224996e+06  1.290820e-03    2.514687e-06  \n",
       "std      3.399180e+06    3.674129e+06  3.590480e-02    1.585775e-03  \n",
       "min      0.000000e+00    0.000000e+00  0.000000e+00    0.000000e+00  \n",
       "25%      0.000000e+00    0.000000e+00  0.000000e+00    0.000000e+00  \n",
       "50%      1.327057e+05    2.146614e+05  0.000000e+00    0.000000e+00  \n",
       "75%      9.430367e+05    1.111909e+06  0.000000e+00    0.000000e+00  \n",
       "max      3.560159e+08    3.561793e+08  1.000000e+00    1.000000e+00  "
      ]
     },
     "execution_count": 9,
     "metadata": {},
     "output_type": "execute_result"
    }
   ],
   "source": [
    "df.describe()"
   ]
  },
  {
   "cell_type": "markdown",
   "metadata": {},
   "source": [
    "### Distribution of Transaction type column"
   ]
  },
  {
   "cell_type": "code",
   "execution_count": 10,
   "metadata": {},
   "outputs": [
    {
     "data": {
      "text/html": [
       "<pre style=\"white-space:pre;overflow-x:auto;line-height:normal;font-family:Menlo,'DejaVu Sans Mono',consolas,'Courier New',monospace\"><span style=\"font-weight: bold\">Transaction Types</span>\n",
       "</pre>\n"
      ],
      "text/plain": [
       "\u001b[1mTransaction Types\u001b[0m\n"
      ]
     },
     "metadata": {},
     "output_type": "display_data"
    },
    {
     "data": {
      "text/html": [
       "<pre style=\"white-space:pre;overflow-x:auto;line-height:normal;font-family:Menlo,'DejaVu Sans Mono',consolas,'Courier New',monospace\"><span style=\"color: #808080; text-decoration-color: #808080; font-weight: bold\">CASH_OUT    </span><span style=\"color: #008080; text-decoration-color: #008080; font-weight: bold\">2237500</span>\n",
       "<span style=\"color: #808080; text-decoration-color: #808080; font-weight: bold\">PAYMENT     </span><span style=\"color: #008080; text-decoration-color: #008080; font-weight: bold\">2151495</span>\n",
       "<span style=\"color: #808080; text-decoration-color: #808080; font-weight: bold\">CASH_IN     </span><span style=\"color: #008080; text-decoration-color: #008080; font-weight: bold\">1399284</span>\n",
       "<span style=\"color: #808080; text-decoration-color: #808080; font-weight: bold\">TRANSFER     </span><span style=\"color: #008080; text-decoration-color: #008080; font-weight: bold\">532909</span>\n",
       "<span style=\"color: #808080; text-decoration-color: #808080; font-weight: bold\">DEBIT         </span><span style=\"color: #008080; text-decoration-color: #008080; font-weight: bold\">41432</span>\n",
       "<span style=\"color: #808080; text-decoration-color: #808080; font-weight: bold\">Name: type, dtype: int64</span>\n",
       "</pre>\n"
      ],
      "text/plain": [
       "\u001b[1;90mCASH_OUT    \u001b[0m\u001b[1;36m2237500\u001b[0m\n",
       "\u001b[1;90mPAYMENT     \u001b[0m\u001b[1;36m2151495\u001b[0m\n",
       "\u001b[1;90mCASH_IN     \u001b[0m\u001b[1;36m1399284\u001b[0m\n",
       "\u001b[1;90mTRANSFER     \u001b[0m\u001b[1;36m532909\u001b[0m\n",
       "\u001b[1;90mDEBIT         \u001b[0m\u001b[1;36m41432\u001b[0m\n",
       "\u001b[1;90mName: type, dtype: int64\u001b[0m\n"
      ]
     },
     "metadata": {},
     "output_type": "display_data"
    },
    {
     "data": {
      "image/png": "[encoded data removed]",
      "text/plain": [
       "<Figure size 648x432 with 1 Axes>"
      ]
     },
     "metadata": {
      "needs_background": "light"
     },
     "output_type": "display_data"
    }
   ],
   "source": [
    "console.print('Transaction Types', style='bold')\n",
    "console.print(df['type'].value_counts(), style='bold bright_black')\n",
    "types_count = df['type'].value_counts().sort_values()\n",
    "plt.figure(figsize=(9, 6))\n",
    "sns.set_style('darkgrid')\n",
    "sns.barplot(types_count.index, types_count, palette='twilight')\n",
    "plt.title('Number of Transaction by types')\n",
    "plt.xlabel('Transaction Type')\n",
    "plt.ylabel('Number of Transaction')\n",
    "plt.ticklabel_format(style='plain', axis='y')\n",
    "plt.show()"
   ]
  },
  {
   "cell_type": "code",
   "execution_count": 11,
   "metadata": {},
   "outputs": [
    {
     "data": {
      "text/html": [
       "<pre style=\"white-space:pre;overflow-x:auto;line-height:normal;font-family:Menlo,'DejaVu Sans Mono',consolas,'Courier New',monospace\"><span style=\"color: #008080; text-decoration-color: #008080; font-weight: bold\">0</span><span style=\"color: #808080; text-decoration-color: #808080; font-weight: bold\">    </span><span style=\"color: #008080; text-decoration-color: #008080; font-weight: bold\">6354407</span>\n",
       "<span style=\"color: #008080; text-decoration-color: #008080; font-weight: bold\">1</span><span style=\"color: #808080; text-decoration-color: #808080; font-weight: bold\">       </span><span style=\"color: #008080; text-decoration-color: #008080; font-weight: bold\">8213</span>\n",
       "<span style=\"color: #808080; text-decoration-color: #808080; font-weight: bold\">Name: isFraud, dtype: int64</span>\n",
       "</pre>\n"
      ],
      "text/plain": [
       "\u001b[1;36m0\u001b[0m\u001b[1;90m    \u001b[0m\u001b[1;36m6354407\u001b[0m\n",
       "\u001b[1;36m1\u001b[0m\u001b[1;90m       \u001b[0m\u001b[1;36m8213\u001b[0m\n",
       "\u001b[1;90mName: isFraud, dtype: int64\u001b[0m\n"
      ]
     },
     "metadata": {},
     "output_type": "display_data"
    },
    {
     "data": {
      "image/png": "[encoded data removed]",
      "text/plain": [
       "<Figure size 432x288 with 1 Axes>"
      ]
     },
     "metadata": {},
     "output_type": "display_data"
    }
   ],
   "source": [
    "console.print(df['isFraud'].value_counts(), style='bold bright_black')\n",
    "sns.countplot(df['isFraud'])\n",
    "plt.title('Fraudulent Transasction')\n",
    "plt.ticklabel_format(style='plain', axis='y')\n",
    "plt.show()"
   ]
  },
  {
   "cell_type": "markdown",
   "metadata": {},
   "source": [
    "There is only 8213 Fraudulent transaction happened out of 63.6 lakhs transaction."
   ]
  },
  {
   "cell_type": "code",
   "execution_count": 12,
   "metadata": {},
   "outputs": [
    {
     "name": "stdout",
     "output_type": "stream",
     "text": [
      "The percentage of Fraud transactions is 0.12908204481801522\n"
     ]
    }
   ],
   "source": [
    "a = (8213/(df.shape[0]))*100\n",
    "print ('The percentage of Fraud transactions is {}'.format(a))"
   ]
  },
  {
   "cell_type": "code",
   "execution_count": 13,
   "metadata": {},
   "outputs": [
    {
     "data": {
      "text/html": [
       "<pre style=\"white-space:pre;overflow-x:auto;line-height:normal;font-family:Menlo,'DejaVu Sans Mono',consolas,'Courier New',monospace\"><span style=\"font-weight: bold\">type      isFraud</span>\n",
       "<span style=\"font-weight: bold\">CASH_IN   </span><span style=\"color: #008080; text-decoration-color: #008080; font-weight: bold\">0</span><span style=\"font-weight: bold\">          </span><span style=\"color: #008080; text-decoration-color: #008080; font-weight: bold\">1399284</span>\n",
       "<span style=\"font-weight: bold\">CASH_OUT  </span><span style=\"color: #008080; text-decoration-color: #008080; font-weight: bold\">0</span><span style=\"font-weight: bold\">          </span><span style=\"color: #008080; text-decoration-color: #008080; font-weight: bold\">2233384</span>\n",
       "<span style=\"font-weight: bold\">          </span><span style=\"color: #008080; text-decoration-color: #008080; font-weight: bold\">1</span><span style=\"font-weight: bold\">             </span><span style=\"color: #008080; text-decoration-color: #008080; font-weight: bold\">4116</span>\n",
       "<span style=\"font-weight: bold\">DEBIT     </span><span style=\"color: #008080; text-decoration-color: #008080; font-weight: bold\">0</span><span style=\"font-weight: bold\">            </span><span style=\"color: #008080; text-decoration-color: #008080; font-weight: bold\">41432</span>\n",
       "<span style=\"font-weight: bold\">PAYMENT   </span><span style=\"color: #008080; text-decoration-color: #008080; font-weight: bold\">0</span><span style=\"font-weight: bold\">          </span><span style=\"color: #008080; text-decoration-color: #008080; font-weight: bold\">2151495</span>\n",
       "<span style=\"font-weight: bold\">TRANSFER  </span><span style=\"color: #008080; text-decoration-color: #008080; font-weight: bold\">0</span><span style=\"font-weight: bold\">           </span><span style=\"color: #008080; text-decoration-color: #008080; font-weight: bold\">528812</span>\n",
       "<span style=\"font-weight: bold\">          </span><span style=\"color: #008080; text-decoration-color: #008080; font-weight: bold\">1</span><span style=\"font-weight: bold\">             </span><span style=\"color: #008080; text-decoration-color: #008080; font-weight: bold\">4097</span>\n",
       "<span style=\"font-weight: bold\">Name: isFraud, dtype: int64</span>\n",
       "</pre>\n"
      ],
      "text/plain": [
       "\u001b[1mtype      isFraud\u001b[0m\n",
       "\u001b[1mCASH_IN   \u001b[0m\u001b[1;36m0\u001b[0m\u001b[1m          \u001b[0m\u001b[1;36m1399284\u001b[0m\n",
       "\u001b[1mCASH_OUT  \u001b[0m\u001b[1;36m0\u001b[0m\u001b[1m          \u001b[0m\u001b[1;36m2233384\u001b[0m\n",
       "\u001b[1m          \u001b[0m\u001b[1;36m1\u001b[0m\u001b[1m             \u001b[0m\u001b[1;36m4116\u001b[0m\n",
       "\u001b[1mDEBIT     \u001b[0m\u001b[1;36m0\u001b[0m\u001b[1m            \u001b[0m\u001b[1;36m41432\u001b[0m\n",
       "\u001b[1mPAYMENT   \u001b[0m\u001b[1;36m0\u001b[0m\u001b[1m          \u001b[0m\u001b[1;36m2151495\u001b[0m\n",
       "\u001b[1mTRANSFER  \u001b[0m\u001b[1;36m0\u001b[0m\u001b[1m           \u001b[0m\u001b[1;36m528812\u001b[0m\n",
       "\u001b[1m          \u001b[0m\u001b[1;36m1\u001b[0m\u001b[1m             \u001b[0m\u001b[1;36m4097\u001b[0m\n",
       "\u001b[1mName: isFraud, dtype: int64\u001b[0m\n"
      ]
     },
     "metadata": {},
     "output_type": "display_data"
    }
   ],
   "source": [
    "is_fraud = df.groupby(['type', 'isFraud'])['isFraud'].count()\n",
    "console.print(is_fraud, style='bold')"
   ]
  },
  {
   "cell_type": "markdown",
   "metadata": {},
   "source": [
    "From looking at the above table, the number of Fraudulent transaction occurred in only 'CASH_OUT' and 'TRANSFER' type transactions. So for our model training we will be taking datas from both these types."
   ]
  },
  {
   "cell_type": "code",
   "execution_count": 14,
   "metadata": {
    "scrolled": false
   },
   "outputs": [
    {
     "data": {
      "image/png": "[encoded data removed]",
      "text/plain": [
       "<Figure size 1080x720 with 9 Axes>"
      ]
     },
     "metadata": {},
     "output_type": "display_data"
    }
   ],
   "source": [
    "df.hist(figsize=(15, 10), color='olive')\n",
    "plt.ticklabel_format(style='plain', axis='y')\n",
    "plt.show()"
   ]
  },
  {
   "cell_type": "code",
   "execution_count": 15,
   "metadata": {},
   "outputs": [
    {
     "data": {
      "text/html": [
       "<div>\n",
       "<style scoped>\n",
       "    .dataframe tbody tr th:only-of-type {\n",
       "        vertical-align: middle;\n",
       "    }\n",
       "\n",
       "    .dataframe tbody tr th {\n",
       "        vertical-align: top;\n",
       "    }\n",
       "\n",
       "    .dataframe thead th {\n",
       "        text-align: right;\n",
       "    }\n",
       "</style>\n",
       "<table border=\"1\" class=\"dataframe\">\n",
       "  <thead>\n",
       "    <tr style=\"text-align: right;\">\n",
       "      <th></th>\n",
       "      <th>step</th>\n",
       "      <th>amount</th>\n",
       "      <th>oldbalanceOrg</th>\n",
       "      <th>newbalanceOrig</th>\n",
       "      <th>oldbalanceDest</th>\n",
       "      <th>newbalanceDest</th>\n",
       "      <th>isFraud</th>\n",
       "      <th>isFlaggedFraud</th>\n",
       "    </tr>\n",
       "  </thead>\n",
       "  <tbody>\n",
       "    <tr>\n",
       "      <th>step</th>\n",
       "      <td>1.000000</td>\n",
       "      <td>0.022373</td>\n",
       "      <td>-0.010058</td>\n",
       "      <td>-0.010299</td>\n",
       "      <td>0.027665</td>\n",
       "      <td>0.025888</td>\n",
       "      <td>0.031578</td>\n",
       "      <td>0.003277</td>\n",
       "    </tr>\n",
       "    <tr>\n",
       "      <th>amount</th>\n",
       "      <td>0.022373</td>\n",
       "      <td>1.000000</td>\n",
       "      <td>-0.002762</td>\n",
       "      <td>-0.007861</td>\n",
       "      <td>0.294137</td>\n",
       "      <td>0.459304</td>\n",
       "      <td>0.076688</td>\n",
       "      <td>0.012295</td>\n",
       "    </tr>\n",
       "    <tr>\n",
       "      <th>oldbalanceOrg</th>\n",
       "      <td>-0.010058</td>\n",
       "      <td>-0.002762</td>\n",
       "      <td>1.000000</td>\n",
       "      <td>0.998803</td>\n",
       "      <td>0.066243</td>\n",
       "      <td>0.042029</td>\n",
       "      <td>0.010154</td>\n",
       "      <td>0.003835</td>\n",
       "    </tr>\n",
       "    <tr>\n",
       "      <th>newbalanceOrig</th>\n",
       "      <td>-0.010299</td>\n",
       "      <td>-0.007861</td>\n",
       "      <td>0.998803</td>\n",
       "      <td>1.000000</td>\n",
       "      <td>0.067812</td>\n",
       "      <td>0.041837</td>\n",
       "      <td>-0.008148</td>\n",
       "      <td>0.003776</td>\n",
       "    </tr>\n",
       "    <tr>\n",
       "      <th>oldbalanceDest</th>\n",
       "      <td>0.027665</td>\n",
       "      <td>0.294137</td>\n",
       "      <td>0.066243</td>\n",
       "      <td>0.067812</td>\n",
       "      <td>1.000000</td>\n",
       "      <td>0.976569</td>\n",
       "      <td>-0.005885</td>\n",
       "      <td>-0.000513</td>\n",
       "    </tr>\n",
       "    <tr>\n",
       "      <th>newbalanceDest</th>\n",
       "      <td>0.025888</td>\n",
       "      <td>0.459304</td>\n",
       "      <td>0.042029</td>\n",
       "      <td>0.041837</td>\n",
       "      <td>0.976569</td>\n",
       "      <td>1.000000</td>\n",
       "      <td>0.000535</td>\n",
       "      <td>-0.000529</td>\n",
       "    </tr>\n",
       "    <tr>\n",
       "      <th>isFraud</th>\n",
       "      <td>0.031578</td>\n",
       "      <td>0.076688</td>\n",
       "      <td>0.010154</td>\n",
       "      <td>-0.008148</td>\n",
       "      <td>-0.005885</td>\n",
       "      <td>0.000535</td>\n",
       "      <td>1.000000</td>\n",
       "      <td>0.044109</td>\n",
       "    </tr>\n",
       "    <tr>\n",
       "      <th>isFlaggedFraud</th>\n",
       "      <td>0.003277</td>\n",
       "      <td>0.012295</td>\n",
       "      <td>0.003835</td>\n",
       "      <td>0.003776</td>\n",
       "      <td>-0.000513</td>\n",
       "      <td>-0.000529</td>\n",
       "      <td>0.044109</td>\n",
       "      <td>1.000000</td>\n",
       "    </tr>\n",
       "  </tbody>\n",
       "</table>\n",
       "</div>"
      ],
      "text/plain": [
       "                    step    amount  oldbalanceOrg  newbalanceOrig  \\\n",
       "step            1.000000  0.022373      -0.010058       -0.010299   \n",
       "amount          0.022373  1.000000      -0.002762       -0.007861   \n",
       "oldbalanceOrg  -0.010058 -0.002762       1.000000        0.998803   \n",
       "newbalanceOrig -0.010299 -0.007861       0.998803        1.000000   \n",
       "oldbalanceDest  0.027665  0.294137       0.066243        0.067812   \n",
       "newbalanceDest  0.025888  0.459304       0.042029        0.041837   \n",
       "isFraud         0.031578  0.076688       0.010154       -0.008148   \n",
       "isFlaggedFraud  0.003277  0.012295       0.003835        0.003776   \n",
       "\n",
       "                oldbalanceDest  newbalanceDest   isFraud  isFlaggedFraud  \n",
       "step                  0.027665        0.025888  0.031578        0.003277  \n",
       "amount                0.294137        0.459304  0.076688        0.012295  \n",
       "oldbalanceOrg         0.066243        0.042029  0.010154        0.003835  \n",
       "newbalanceOrig        0.067812        0.041837 -0.008148        0.003776  \n",
       "oldbalanceDest        1.000000        0.976569 -0.005885       -0.000513  \n",
       "newbalanceDest        0.976569        1.000000  0.000535       -0.000529  \n",
       "isFraud              -0.005885        0.000535  1.000000        0.044109  \n",
       "isFlaggedFraud       -0.000513       -0.000529  0.044109        1.000000  "
      ]
     },
     "execution_count": 15,
     "metadata": {},
     "output_type": "execute_result"
    }
   ],
   "source": [
    "df_corr = df.corr()\n",
    "df_corr"
   ]
  },
  {
   "cell_type": "code",
   "execution_count": 16,
   "metadata": {},
   "outputs": [
    {
     "data": {
      "image/png": "[encoded data removed]",
      "text/plain": [
       "<Figure size 720x576 with 2 Axes>"
      ]
     },
     "metadata": {},
     "output_type": "display_data"
    }
   ],
   "source": [
    "plt.figure(figsize=(10, 8))\n",
    "sns.heatmap(df_corr, annot=True, cmap='Accent_r')\n",
    "plt.show()"
   ]
  },
  {
   "cell_type": "code",
   "execution_count": 17,
   "metadata": {},
   "outputs": [
    {
     "data": {
      "image/png": "[encoded data removed]",
      "text/plain": [
       "<Figure size 432x288 with 1 Axes>"
      ]
     },
     "metadata": {},
     "output_type": "display_data"
    }
   ],
   "source": [
    "data = df.sample(5000)\n",
    "sns.scatterplot(data.oldbalanceDest, data.newbalanceDest, hue=data.isFraud)\n",
    "plt.show()"
   ]
  },
  {
   "cell_type": "markdown",
   "metadata": {},
   "source": [
    "### Datasets with respect to Transaction types"
   ]
  },
  {
   "cell_type": "markdown",
   "metadata": {},
   "source": [
    "#### CASH IN "
   ]
  },
  {
   "cell_type": "code",
   "execution_count": 18,
   "metadata": {},
   "outputs": [
    {
     "data": {
      "text/html": [
       "<pre style=\"white-space:pre;overflow-x:auto;line-height:normal;font-family:Menlo,'DejaVu Sans Mono',consolas,'Courier New',monospace\"><span style=\"font-weight: bold\">Size:</span> <span style=\"color: #008080; text-decoration-color: #008080; font-weight: bold\">15</span>,<span style=\"color: #008080; text-decoration-color: #008080; font-weight: bold\">392</span>,<span style=\"color: #008080; text-decoration-color: #008080; font-weight: bold\">124</span>\n",
       "</pre>\n"
      ],
      "text/plain": [
       "\u001b[1mSize:\u001b[0m \u001b[1;36m15\u001b[0m,\u001b[1;36m392\u001b[0m,\u001b[1;36m124\u001b[0m\n"
      ]
     },
     "metadata": {},
     "output_type": "display_data"
    },
    {
     "data": {
      "text/html": [
       "<div>\n",
       "<style scoped>\n",
       "    .dataframe tbody tr th:only-of-type {\n",
       "        vertical-align: middle;\n",
       "    }\n",
       "\n",
       "    .dataframe tbody tr th {\n",
       "        vertical-align: top;\n",
       "    }\n",
       "\n",
       "    .dataframe thead th {\n",
       "        text-align: right;\n",
       "    }\n",
       "</style>\n",
       "<table border=\"1\" class=\"dataframe\">\n",
       "  <thead>\n",
       "    <tr style=\"text-align: right;\">\n",
       "      <th></th>\n",
       "      <th>step</th>\n",
       "      <th>type</th>\n",
       "      <th>amount</th>\n",
       "      <th>nameOrig</th>\n",
       "      <th>oldbalanceOrg</th>\n",
       "      <th>newbalanceOrig</th>\n",
       "      <th>nameDest</th>\n",
       "      <th>oldbalanceDest</th>\n",
       "      <th>newbalanceDest</th>\n",
       "      <th>isFraud</th>\n",
       "      <th>isFlaggedFraud</th>\n",
       "    </tr>\n",
       "  </thead>\n",
       "  <tbody>\n",
       "    <tr>\n",
       "      <th>389</th>\n",
       "      <td>1</td>\n",
       "      <td>CASH_IN</td>\n",
       "      <td>143236.26</td>\n",
       "      <td>C1862994526</td>\n",
       "      <td>0.00</td>\n",
       "      <td>143236.26</td>\n",
       "      <td>C1688019098</td>\n",
       "      <td>608932.17</td>\n",
       "      <td>97263.78</td>\n",
       "      <td>0</td>\n",
       "      <td>0</td>\n",
       "    </tr>\n",
       "    <tr>\n",
       "      <th>390</th>\n",
       "      <td>1</td>\n",
       "      <td>CASH_IN</td>\n",
       "      <td>228451.89</td>\n",
       "      <td>C1614133563</td>\n",
       "      <td>143236.26</td>\n",
       "      <td>371688.15</td>\n",
       "      <td>C2083562754</td>\n",
       "      <td>719678.38</td>\n",
       "      <td>1186556.81</td>\n",
       "      <td>0</td>\n",
       "      <td>0</td>\n",
       "    </tr>\n",
       "    <tr>\n",
       "      <th>391</th>\n",
       "      <td>1</td>\n",
       "      <td>CASH_IN</td>\n",
       "      <td>35902.49</td>\n",
       "      <td>C839771540</td>\n",
       "      <td>371688.15</td>\n",
       "      <td>407590.65</td>\n",
       "      <td>C2001112025</td>\n",
       "      <td>49003.30</td>\n",
       "      <td>0.00</td>\n",
       "      <td>0</td>\n",
       "      <td>0</td>\n",
       "    </tr>\n",
       "    <tr>\n",
       "      <th>392</th>\n",
       "      <td>1</td>\n",
       "      <td>CASH_IN</td>\n",
       "      <td>232953.64</td>\n",
       "      <td>C1037163664</td>\n",
       "      <td>407590.65</td>\n",
       "      <td>640544.28</td>\n",
       "      <td>C33524623</td>\n",
       "      <td>1172672.27</td>\n",
       "      <td>1517262.16</td>\n",
       "      <td>0</td>\n",
       "      <td>0</td>\n",
       "    </tr>\n",
       "    <tr>\n",
       "      <th>393</th>\n",
       "      <td>1</td>\n",
       "      <td>CASH_IN</td>\n",
       "      <td>65912.95</td>\n",
       "      <td>C180316302</td>\n",
       "      <td>640544.28</td>\n",
       "      <td>706457.23</td>\n",
       "      <td>C1330106945</td>\n",
       "      <td>104198.26</td>\n",
       "      <td>24044.18</td>\n",
       "      <td>0</td>\n",
       "      <td>0</td>\n",
       "    </tr>\n",
       "  </tbody>\n",
       "</table>\n",
       "</div>"
      ],
      "text/plain": [
       "     step     type     amount     nameOrig  oldbalanceOrg  newbalanceOrig  \\\n",
       "389     1  CASH_IN  143236.26  C1862994526           0.00       143236.26   \n",
       "390     1  CASH_IN  228451.89  C1614133563      143236.26       371688.15   \n",
       "391     1  CASH_IN   35902.49   C839771540      371688.15       407590.65   \n",
       "392     1  CASH_IN  232953.64  C1037163664      407590.65       640544.28   \n",
       "393     1  CASH_IN   65912.95   C180316302      640544.28       706457.23   \n",
       "\n",
       "        nameDest  oldbalanceDest  newbalanceDest  isFraud  isFlaggedFraud  \n",
       "389  C1688019098       608932.17        97263.78        0               0  \n",
       "390  C2083562754       719678.38      1186556.81        0               0  \n",
       "391  C2001112025        49003.30            0.00        0               0  \n",
       "392    C33524623      1172672.27      1517262.16        0               0  \n",
       "393  C1330106945       104198.26        24044.18        0               0  "
      ]
     },
     "execution_count": 18,
     "metadata": {},
     "output_type": "execute_result"
    }
   ],
   "source": [
    "cash_in = df[df['type'] == 'CASH_IN']\n",
    "console.print(f\"[bold]Size:[/] {cash_in.size:,}\")\n",
    "cash_in.head()"
   ]
  },
  {
   "cell_type": "markdown",
   "metadata": {},
   "source": [
    "#### DEBIT"
   ]
  },
  {
   "cell_type": "code",
   "execution_count": 19,
   "metadata": {},
   "outputs": [
    {
     "data": {
      "text/html": [
       "<pre style=\"white-space:pre;overflow-x:auto;line-height:normal;font-family:Menlo,'DejaVu Sans Mono',consolas,'Courier New',monospace\"><span style=\"font-weight: bold\">Size:</span> <span style=\"color: #008080; text-decoration-color: #008080; font-weight: bold\">455</span>,<span style=\"color: #008080; text-decoration-color: #008080; font-weight: bold\">752</span>\n",
       "</pre>\n"
      ],
      "text/plain": [
       "\u001b[1mSize:\u001b[0m \u001b[1;36m455\u001b[0m,\u001b[1;36m752\u001b[0m\n"
      ]
     },
     "metadata": {},
     "output_type": "display_data"
    },
    {
     "data": {
      "text/html": [
       "<div>\n",
       "<style scoped>\n",
       "    .dataframe tbody tr th:only-of-type {\n",
       "        vertical-align: middle;\n",
       "    }\n",
       "\n",
       "    .dataframe tbody tr th {\n",
       "        vertical-align: top;\n",
       "    }\n",
       "\n",
       "    .dataframe thead th {\n",
       "        text-align: right;\n",
       "    }\n",
       "</style>\n",
       "<table border=\"1\" class=\"dataframe\">\n",
       "  <thead>\n",
       "    <tr style=\"text-align: right;\">\n",
       "      <th></th>\n",
       "      <th>step</th>\n",
       "      <th>type</th>\n",
       "      <th>amount</th>\n",
       "      <th>nameOrig</th>\n",
       "      <th>oldbalanceOrg</th>\n",
       "      <th>newbalanceOrig</th>\n",
       "      <th>nameDest</th>\n",
       "      <th>oldbalanceDest</th>\n",
       "      <th>newbalanceDest</th>\n",
       "      <th>isFraud</th>\n",
       "      <th>isFlaggedFraud</th>\n",
       "    </tr>\n",
       "  </thead>\n",
       "  <tbody>\n",
       "    <tr>\n",
       "      <th>9</th>\n",
       "      <td>1</td>\n",
       "      <td>DEBIT</td>\n",
       "      <td>5337.77</td>\n",
       "      <td>C712410124</td>\n",
       "      <td>41720.0</td>\n",
       "      <td>36382.23</td>\n",
       "      <td>C195600860</td>\n",
       "      <td>41898.0</td>\n",
       "      <td>40348.79</td>\n",
       "      <td>0</td>\n",
       "      <td>0</td>\n",
       "    </tr>\n",
       "    <tr>\n",
       "      <th>10</th>\n",
       "      <td>1</td>\n",
       "      <td>DEBIT</td>\n",
       "      <td>9644.94</td>\n",
       "      <td>C1900366749</td>\n",
       "      <td>4465.0</td>\n",
       "      <td>0.00</td>\n",
       "      <td>C997608398</td>\n",
       "      <td>10845.0</td>\n",
       "      <td>157982.12</td>\n",
       "      <td>0</td>\n",
       "      <td>0</td>\n",
       "    </tr>\n",
       "    <tr>\n",
       "      <th>21</th>\n",
       "      <td>1</td>\n",
       "      <td>DEBIT</td>\n",
       "      <td>9302.79</td>\n",
       "      <td>C1566511282</td>\n",
       "      <td>11299.0</td>\n",
       "      <td>1996.21</td>\n",
       "      <td>C1973538135</td>\n",
       "      <td>29832.0</td>\n",
       "      <td>16896.70</td>\n",
       "      <td>0</td>\n",
       "      <td>0</td>\n",
       "    </tr>\n",
       "    <tr>\n",
       "      <th>22</th>\n",
       "      <td>1</td>\n",
       "      <td>DEBIT</td>\n",
       "      <td>1065.41</td>\n",
       "      <td>C1959239586</td>\n",
       "      <td>1817.0</td>\n",
       "      <td>751.59</td>\n",
       "      <td>C515132998</td>\n",
       "      <td>10330.0</td>\n",
       "      <td>0.00</td>\n",
       "      <td>0</td>\n",
       "      <td>0</td>\n",
       "    </tr>\n",
       "    <tr>\n",
       "      <th>41</th>\n",
       "      <td>1</td>\n",
       "      <td>DEBIT</td>\n",
       "      <td>5758.59</td>\n",
       "      <td>C1466917878</td>\n",
       "      <td>32604.0</td>\n",
       "      <td>26845.41</td>\n",
       "      <td>C1297685781</td>\n",
       "      <td>209699.0</td>\n",
       "      <td>16997.22</td>\n",
       "      <td>0</td>\n",
       "      <td>0</td>\n",
       "    </tr>\n",
       "  </tbody>\n",
       "</table>\n",
       "</div>"
      ],
      "text/plain": [
       "    step   type   amount     nameOrig  oldbalanceOrg  newbalanceOrig  \\\n",
       "9      1  DEBIT  5337.77   C712410124        41720.0        36382.23   \n",
       "10     1  DEBIT  9644.94  C1900366749         4465.0            0.00   \n",
       "21     1  DEBIT  9302.79  C1566511282        11299.0         1996.21   \n",
       "22     1  DEBIT  1065.41  C1959239586         1817.0          751.59   \n",
       "41     1  DEBIT  5758.59  C1466917878        32604.0        26845.41   \n",
       "\n",
       "       nameDest  oldbalanceDest  newbalanceDest  isFraud  isFlaggedFraud  \n",
       "9    C195600860         41898.0        40348.79        0               0  \n",
       "10   C997608398         10845.0       157982.12        0               0  \n",
       "21  C1973538135         29832.0        16896.70        0               0  \n",
       "22   C515132998         10330.0            0.00        0               0  \n",
       "41  C1297685781        209699.0        16997.22        0               0  "
      ]
     },
     "execution_count": 19,
     "metadata": {},
     "output_type": "execute_result"
    }
   ],
   "source": [
    "debit = df[df['type'] == 'DEBIT']\n",
    "console.print(f\"[bold]Size:[/] {debit.size:,}\")\n",
    "debit.head()"
   ]
  },
  {
   "cell_type": "markdown",
   "metadata": {},
   "source": [
    "#### PAYMENT"
   ]
  },
  {
   "cell_type": "code",
   "execution_count": 20,
   "metadata": {},
   "outputs": [
    {
     "data": {
      "text/html": [
       "<pre style=\"white-space:pre;overflow-x:auto;line-height:normal;font-family:Menlo,'DejaVu Sans Mono',consolas,'Courier New',monospace\"><span style=\"font-weight: bold\">Size:</span> <span style=\"color: #008080; text-decoration-color: #008080; font-weight: bold\">23</span>,<span style=\"color: #008080; text-decoration-color: #008080; font-weight: bold\">666</span>,<span style=\"color: #008080; text-decoration-color: #008080; font-weight: bold\">445</span>\n",
       "</pre>\n"
      ],
      "text/plain": [
       "\u001b[1mSize:\u001b[0m \u001b[1;36m23\u001b[0m,\u001b[1;36m666\u001b[0m,\u001b[1;36m445\u001b[0m\n"
      ]
     },
     "metadata": {},
     "output_type": "display_data"
    },
    {
     "data": {
      "text/html": [
       "<div>\n",
       "<style scoped>\n",
       "    .dataframe tbody tr th:only-of-type {\n",
       "        vertical-align: middle;\n",
       "    }\n",
       "\n",
       "    .dataframe tbody tr th {\n",
       "        vertical-align: top;\n",
       "    }\n",
       "\n",
       "    .dataframe thead th {\n",
       "        text-align: right;\n",
       "    }\n",
       "</style>\n",
       "<table border=\"1\" class=\"dataframe\">\n",
       "  <thead>\n",
       "    <tr style=\"text-align: right;\">\n",
       "      <th></th>\n",
       "      <th>step</th>\n",
       "      <th>type</th>\n",
       "      <th>amount</th>\n",
       "      <th>nameOrig</th>\n",
       "      <th>oldbalanceOrg</th>\n",
       "      <th>newbalanceOrig</th>\n",
       "      <th>nameDest</th>\n",
       "      <th>oldbalanceDest</th>\n",
       "      <th>newbalanceDest</th>\n",
       "      <th>isFraud</th>\n",
       "      <th>isFlaggedFraud</th>\n",
       "    </tr>\n",
       "  </thead>\n",
       "  <tbody>\n",
       "    <tr>\n",
       "      <th>0</th>\n",
       "      <td>1</td>\n",
       "      <td>PAYMENT</td>\n",
       "      <td>9839.64</td>\n",
       "      <td>C1231006815</td>\n",
       "      <td>170136.0</td>\n",
       "      <td>160296.36</td>\n",
       "      <td>M1979787155</td>\n",
       "      <td>0.0</td>\n",
       "      <td>0.0</td>\n",
       "      <td>0</td>\n",
       "      <td>0</td>\n",
       "    </tr>\n",
       "    <tr>\n",
       "      <th>1</th>\n",
       "      <td>1</td>\n",
       "      <td>PAYMENT</td>\n",
       "      <td>1864.28</td>\n",
       "      <td>C1666544295</td>\n",
       "      <td>21249.0</td>\n",
       "      <td>19384.72</td>\n",
       "      <td>M2044282225</td>\n",
       "      <td>0.0</td>\n",
       "      <td>0.0</td>\n",
       "      <td>0</td>\n",
       "      <td>0</td>\n",
       "    </tr>\n",
       "    <tr>\n",
       "      <th>4</th>\n",
       "      <td>1</td>\n",
       "      <td>PAYMENT</td>\n",
       "      <td>11668.14</td>\n",
       "      <td>C2048537720</td>\n",
       "      <td>41554.0</td>\n",
       "      <td>29885.86</td>\n",
       "      <td>M1230701703</td>\n",
       "      <td>0.0</td>\n",
       "      <td>0.0</td>\n",
       "      <td>0</td>\n",
       "      <td>0</td>\n",
       "    </tr>\n",
       "    <tr>\n",
       "      <th>5</th>\n",
       "      <td>1</td>\n",
       "      <td>PAYMENT</td>\n",
       "      <td>7817.71</td>\n",
       "      <td>C90045638</td>\n",
       "      <td>53860.0</td>\n",
       "      <td>46042.29</td>\n",
       "      <td>M573487274</td>\n",
       "      <td>0.0</td>\n",
       "      <td>0.0</td>\n",
       "      <td>0</td>\n",
       "      <td>0</td>\n",
       "    </tr>\n",
       "    <tr>\n",
       "      <th>6</th>\n",
       "      <td>1</td>\n",
       "      <td>PAYMENT</td>\n",
       "      <td>7107.77</td>\n",
       "      <td>C154988899</td>\n",
       "      <td>183195.0</td>\n",
       "      <td>176087.23</td>\n",
       "      <td>M408069119</td>\n",
       "      <td>0.0</td>\n",
       "      <td>0.0</td>\n",
       "      <td>0</td>\n",
       "      <td>0</td>\n",
       "    </tr>\n",
       "  </tbody>\n",
       "</table>\n",
       "</div>"
      ],
      "text/plain": [
       "   step     type    amount     nameOrig  oldbalanceOrg  newbalanceOrig  \\\n",
       "0     1  PAYMENT   9839.64  C1231006815       170136.0       160296.36   \n",
       "1     1  PAYMENT   1864.28  C1666544295        21249.0        19384.72   \n",
       "4     1  PAYMENT  11668.14  C2048537720        41554.0        29885.86   \n",
       "5     1  PAYMENT   7817.71    C90045638        53860.0        46042.29   \n",
       "6     1  PAYMENT   7107.77   C154988899       183195.0       176087.23   \n",
       "\n",
       "      nameDest  oldbalanceDest  newbalanceDest  isFraud  isFlaggedFraud  \n",
       "0  M1979787155             0.0             0.0        0               0  \n",
       "1  M2044282225             0.0             0.0        0               0  \n",
       "4  M1230701703             0.0             0.0        0               0  \n",
       "5   M573487274             0.0             0.0        0               0  \n",
       "6   M408069119             0.0             0.0        0               0  "
      ]
     },
     "execution_count": 20,
     "metadata": {},
     "output_type": "execute_result"
    }
   ],
   "source": [
    "payment = df[df['type'] == 'PAYMENT']\n",
    "console.print(f\"[bold]Size:[/] {payment.size:,}\")\n",
    "payment.head()"
   ]
  },
  {
   "cell_type": "markdown",
   "metadata": {},
   "source": [
    "#### CASH OUT"
   ]
  },
  {
   "cell_type": "code",
   "execution_count": 21,
   "metadata": {},
   "outputs": [
    {
     "data": {
      "text/html": [
       "<pre style=\"white-space:pre;overflow-x:auto;line-height:normal;font-family:Menlo,'DejaVu Sans Mono',consolas,'Courier New',monospace\"><span style=\"font-weight: bold\">Size:</span> <span style=\"color: #008080; text-decoration-color: #008080; font-weight: bold\">24</span>,<span style=\"color: #008080; text-decoration-color: #008080; font-weight: bold\">612</span>,<span style=\"color: #008080; text-decoration-color: #008080; font-weight: bold\">500</span>\n",
       "</pre>\n"
      ],
      "text/plain": [
       "\u001b[1mSize:\u001b[0m \u001b[1;36m24\u001b[0m,\u001b[1;36m612\u001b[0m,\u001b[1;36m500\u001b[0m\n"
      ]
     },
     "metadata": {},
     "output_type": "display_data"
    },
    {
     "data": {
      "text/html": [
       "<div>\n",
       "<style scoped>\n",
       "    .dataframe tbody tr th:only-of-type {\n",
       "        vertical-align: middle;\n",
       "    }\n",
       "\n",
       "    .dataframe tbody tr th {\n",
       "        vertical-align: top;\n",
       "    }\n",
       "\n",
       "    .dataframe thead th {\n",
       "        text-align: right;\n",
       "    }\n",
       "</style>\n",
       "<table border=\"1\" class=\"dataframe\">\n",
       "  <thead>\n",
       "    <tr style=\"text-align: right;\">\n",
       "      <th></th>\n",
       "      <th>step</th>\n",
       "      <th>type</th>\n",
       "      <th>amount</th>\n",
       "      <th>nameOrig</th>\n",
       "      <th>oldbalanceOrg</th>\n",
       "      <th>newbalanceOrig</th>\n",
       "      <th>nameDest</th>\n",
       "      <th>oldbalanceDest</th>\n",
       "      <th>newbalanceDest</th>\n",
       "      <th>isFraud</th>\n",
       "      <th>isFlaggedFraud</th>\n",
       "    </tr>\n",
       "  </thead>\n",
       "  <tbody>\n",
       "    <tr>\n",
       "      <th>3</th>\n",
       "      <td>1</td>\n",
       "      <td>CASH_OUT</td>\n",
       "      <td>181.00</td>\n",
       "      <td>C840083671</td>\n",
       "      <td>181.00</td>\n",
       "      <td>0.0</td>\n",
       "      <td>C38997010</td>\n",
       "      <td>21182.0</td>\n",
       "      <td>0.00</td>\n",
       "      <td>1</td>\n",
       "      <td>0</td>\n",
       "    </tr>\n",
       "    <tr>\n",
       "      <th>15</th>\n",
       "      <td>1</td>\n",
       "      <td>CASH_OUT</td>\n",
       "      <td>229133.94</td>\n",
       "      <td>C905080434</td>\n",
       "      <td>15325.00</td>\n",
       "      <td>0.0</td>\n",
       "      <td>C476402209</td>\n",
       "      <td>5083.0</td>\n",
       "      <td>51513.44</td>\n",
       "      <td>0</td>\n",
       "      <td>0</td>\n",
       "    </tr>\n",
       "    <tr>\n",
       "      <th>42</th>\n",
       "      <td>1</td>\n",
       "      <td>CASH_OUT</td>\n",
       "      <td>110414.71</td>\n",
       "      <td>C768216420</td>\n",
       "      <td>26845.41</td>\n",
       "      <td>0.0</td>\n",
       "      <td>C1509514333</td>\n",
       "      <td>288800.0</td>\n",
       "      <td>2415.16</td>\n",
       "      <td>0</td>\n",
       "      <td>0</td>\n",
       "    </tr>\n",
       "    <tr>\n",
       "      <th>47</th>\n",
       "      <td>1</td>\n",
       "      <td>CASH_OUT</td>\n",
       "      <td>56953.90</td>\n",
       "      <td>C1570470538</td>\n",
       "      <td>1942.02</td>\n",
       "      <td>0.0</td>\n",
       "      <td>C824009085</td>\n",
       "      <td>70253.0</td>\n",
       "      <td>64106.18</td>\n",
       "      <td>0</td>\n",
       "      <td>0</td>\n",
       "    </tr>\n",
       "    <tr>\n",
       "      <th>48</th>\n",
       "      <td>1</td>\n",
       "      <td>CASH_OUT</td>\n",
       "      <td>5346.89</td>\n",
       "      <td>C512549200</td>\n",
       "      <td>0.00</td>\n",
       "      <td>0.0</td>\n",
       "      <td>C248609774</td>\n",
       "      <td>652637.0</td>\n",
       "      <td>6453430.91</td>\n",
       "      <td>0</td>\n",
       "      <td>0</td>\n",
       "    </tr>\n",
       "  </tbody>\n",
       "</table>\n",
       "</div>"
      ],
      "text/plain": [
       "    step      type     amount     nameOrig  oldbalanceOrg  newbalanceOrig  \\\n",
       "3      1  CASH_OUT     181.00   C840083671         181.00             0.0   \n",
       "15     1  CASH_OUT  229133.94   C905080434       15325.00             0.0   \n",
       "42     1  CASH_OUT  110414.71   C768216420       26845.41             0.0   \n",
       "47     1  CASH_OUT   56953.90  C1570470538        1942.02             0.0   \n",
       "48     1  CASH_OUT    5346.89   C512549200           0.00             0.0   \n",
       "\n",
       "       nameDest  oldbalanceDest  newbalanceDest  isFraud  isFlaggedFraud  \n",
       "3     C38997010         21182.0            0.00        1               0  \n",
       "15   C476402209          5083.0        51513.44        0               0  \n",
       "42  C1509514333        288800.0         2415.16        0               0  \n",
       "47   C824009085         70253.0        64106.18        0               0  \n",
       "48   C248609774        652637.0      6453430.91        0               0  "
      ]
     },
     "execution_count": 21,
     "metadata": {},
     "output_type": "execute_result"
    }
   ],
   "source": [
    "cash_out = df[df['type'] == 'CASH_OUT']\n",
    "console.print(f\"[bold]Size:[/] {cash_out.size:,}\")\n",
    "cash_out.head()"
   ]
  },
  {
   "cell_type": "markdown",
   "metadata": {},
   "source": [
    "#### TRANSFER"
   ]
  },
  {
   "cell_type": "code",
   "execution_count": 22,
   "metadata": {},
   "outputs": [
    {
     "data": {
      "text/html": [
       "<pre style=\"white-space:pre;overflow-x:auto;line-height:normal;font-family:Menlo,'DejaVu Sans Mono',consolas,'Courier New',monospace\"><span style=\"font-weight: bold\">Size:</span> <span style=\"color: #008080; text-decoration-color: #008080; font-weight: bold\">5</span>,<span style=\"color: #008080; text-decoration-color: #008080; font-weight: bold\">861</span>,<span style=\"color: #008080; text-decoration-color: #008080; font-weight: bold\">999</span>\n",
       "</pre>\n"
      ],
      "text/plain": [
       "\u001b[1mSize:\u001b[0m \u001b[1;36m5\u001b[0m,\u001b[1;36m861\u001b[0m,\u001b[1;36m999\u001b[0m\n"
      ]
     },
     "metadata": {},
     "output_type": "display_data"
    },
    {
     "data": {
      "text/html": [
       "<div>\n",
       "<style scoped>\n",
       "    .dataframe tbody tr th:only-of-type {\n",
       "        vertical-align: middle;\n",
       "    }\n",
       "\n",
       "    .dataframe tbody tr th {\n",
       "        vertical-align: top;\n",
       "    }\n",
       "\n",
       "    .dataframe thead th {\n",
       "        text-align: right;\n",
       "    }\n",
       "</style>\n",
       "<table border=\"1\" class=\"dataframe\">\n",
       "  <thead>\n",
       "    <tr style=\"text-align: right;\">\n",
       "      <th></th>\n",
       "      <th>step</th>\n",
       "      <th>type</th>\n",
       "      <th>amount</th>\n",
       "      <th>nameOrig</th>\n",
       "      <th>oldbalanceOrg</th>\n",
       "      <th>newbalanceOrig</th>\n",
       "      <th>nameDest</th>\n",
       "      <th>oldbalanceDest</th>\n",
       "      <th>newbalanceDest</th>\n",
       "      <th>isFraud</th>\n",
       "      <th>isFlaggedFraud</th>\n",
       "    </tr>\n",
       "  </thead>\n",
       "  <tbody>\n",
       "    <tr>\n",
       "      <th>2</th>\n",
       "      <td>1</td>\n",
       "      <td>TRANSFER</td>\n",
       "      <td>181.00</td>\n",
       "      <td>C1305486145</td>\n",
       "      <td>181.00</td>\n",
       "      <td>0.0</td>\n",
       "      <td>C553264065</td>\n",
       "      <td>0.00</td>\n",
       "      <td>0.00</td>\n",
       "      <td>1</td>\n",
       "      <td>0</td>\n",
       "    </tr>\n",
       "    <tr>\n",
       "      <th>19</th>\n",
       "      <td>1</td>\n",
       "      <td>TRANSFER</td>\n",
       "      <td>215310.30</td>\n",
       "      <td>C1670993182</td>\n",
       "      <td>705.00</td>\n",
       "      <td>0.0</td>\n",
       "      <td>C1100439041</td>\n",
       "      <td>22425.00</td>\n",
       "      <td>0.00</td>\n",
       "      <td>0</td>\n",
       "      <td>0</td>\n",
       "    </tr>\n",
       "    <tr>\n",
       "      <th>24</th>\n",
       "      <td>1</td>\n",
       "      <td>TRANSFER</td>\n",
       "      <td>311685.89</td>\n",
       "      <td>C1984094095</td>\n",
       "      <td>10835.00</td>\n",
       "      <td>0.0</td>\n",
       "      <td>C932583850</td>\n",
       "      <td>6267.00</td>\n",
       "      <td>2719172.89</td>\n",
       "      <td>0</td>\n",
       "      <td>0</td>\n",
       "    </tr>\n",
       "    <tr>\n",
       "      <th>58</th>\n",
       "      <td>1</td>\n",
       "      <td>TRANSFER</td>\n",
       "      <td>62610.80</td>\n",
       "      <td>C1976401987</td>\n",
       "      <td>79114.00</td>\n",
       "      <td>16503.2</td>\n",
       "      <td>C1937962514</td>\n",
       "      <td>517.00</td>\n",
       "      <td>8383.29</td>\n",
       "      <td>0</td>\n",
       "      <td>0</td>\n",
       "    </tr>\n",
       "    <tr>\n",
       "      <th>78</th>\n",
       "      <td>1</td>\n",
       "      <td>TRANSFER</td>\n",
       "      <td>42712.39</td>\n",
       "      <td>C283039401</td>\n",
       "      <td>10363.39</td>\n",
       "      <td>0.0</td>\n",
       "      <td>C1330106945</td>\n",
       "      <td>57901.66</td>\n",
       "      <td>24044.18</td>\n",
       "      <td>0</td>\n",
       "      <td>0</td>\n",
       "    </tr>\n",
       "  </tbody>\n",
       "</table>\n",
       "</div>"
      ],
      "text/plain": [
       "    step      type     amount     nameOrig  oldbalanceOrg  newbalanceOrig  \\\n",
       "2      1  TRANSFER     181.00  C1305486145         181.00             0.0   \n",
       "19     1  TRANSFER  215310.30  C1670993182         705.00             0.0   \n",
       "24     1  TRANSFER  311685.89  C1984094095       10835.00             0.0   \n",
       "58     1  TRANSFER   62610.80  C1976401987       79114.00         16503.2   \n",
       "78     1  TRANSFER   42712.39   C283039401       10363.39             0.0   \n",
       "\n",
       "       nameDest  oldbalanceDest  newbalanceDest  isFraud  isFlaggedFraud  \n",
       "2    C553264065            0.00            0.00        1               0  \n",
       "19  C1100439041        22425.00            0.00        0               0  \n",
       "24   C932583850         6267.00      2719172.89        0               0  \n",
       "58  C1937962514          517.00         8383.29        0               0  \n",
       "78  C1330106945        57901.66        24044.18        0               0  "
      ]
     },
     "execution_count": 22,
     "metadata": {},
     "output_type": "execute_result"
    }
   ],
   "source": [
    "transfer = df[df['type'] == 'TRANSFER']\n",
    "console.print(f\"[bold]Size:[/] {transfer.size:,}\")\n",
    "transfer.head()"
   ]
  },
  {
   "cell_type": "code",
   "execution_count": 23,
   "metadata": {},
   "outputs": [
    {
     "data": {
      "text/html": [
       "<pre style=\"white-space:pre;overflow-x:auto;line-height:normal;font-family:Menlo,'DejaVu Sans Mono',consolas,'Courier New',monospace\"><span style=\"color: #ff0000; text-decoration-color: #ff0000; font-weight: bold; text-decoration: underline\">Fraudulent transaction in CASH OUT transaction type</span>\n",
       "</pre>\n"
      ],
      "text/plain": [
       "\u001b[1;4;91mFraudulent transaction in CASH OUT transaction type\u001b[0m\n"
      ]
     },
     "metadata": {},
     "output_type": "display_data"
    },
    {
     "data": {
      "text/html": [
       "<pre style=\"white-space:pre;overflow-x:auto;line-height:normal;font-family:Menlo,'DejaVu Sans Mono',consolas,'Courier New',monospace\"><span style=\"color: #008080; text-decoration-color: #008080; font-weight: bold\">0</span><span style=\"color: #808080; text-decoration-color: #808080; font-weight: bold\">    </span><span style=\"color: #008080; text-decoration-color: #008080; font-weight: bold\">2233384</span>\n",
       "<span style=\"color: #008080; text-decoration-color: #008080; font-weight: bold\">1</span><span style=\"color: #808080; text-decoration-color: #808080; font-weight: bold\">       </span><span style=\"color: #008080; text-decoration-color: #008080; font-weight: bold\">4116</span>\n",
       "<span style=\"color: #808080; text-decoration-color: #808080; font-weight: bold\">Name: isFraud, dtype: int64</span>\n",
       "</pre>\n"
      ],
      "text/plain": [
       "\u001b[1;36m0\u001b[0m\u001b[1;90m    \u001b[0m\u001b[1;36m2233384\u001b[0m\n",
       "\u001b[1;36m1\u001b[0m\u001b[1;90m       \u001b[0m\u001b[1;36m4116\u001b[0m\n",
       "\u001b[1;90mName: isFraud, dtype: int64\u001b[0m\n"
      ]
     },
     "metadata": {},
     "output_type": "display_data"
    },
    {
     "data": {
      "text/html": [
       "<pre style=\"white-space:pre;overflow-x:auto;line-height:normal;font-family:Menlo,'DejaVu Sans Mono',consolas,'Courier New',monospace\"><span style=\"color: #ff0000; text-decoration-color: #ff0000; font-weight: bold; text-decoration: underline\">Fraudulent transaction in TRANSFER transaction type</span>\n",
       "</pre>\n"
      ],
      "text/plain": [
       "\u001b[1;4;91mFraudulent transaction in TRANSFER transaction type\u001b[0m\n"
      ]
     },
     "metadata": {},
     "output_type": "display_data"
    },
    {
     "data": {
      "text/html": [
       "<pre style=\"white-space:pre;overflow-x:auto;line-height:normal;font-family:Menlo,'DejaVu Sans Mono',consolas,'Courier New',monospace\"><span style=\"color: #008080; text-decoration-color: #008080; font-weight: bold\">0</span><span style=\"color: #808080; text-decoration-color: #808080; font-weight: bold\">    </span><span style=\"color: #008080; text-decoration-color: #008080; font-weight: bold\">528812</span>\n",
       "<span style=\"color: #008080; text-decoration-color: #008080; font-weight: bold\">1</span><span style=\"color: #808080; text-decoration-color: #808080; font-weight: bold\">      </span><span style=\"color: #008080; text-decoration-color: #008080; font-weight: bold\">4097</span>\n",
       "<span style=\"color: #808080; text-decoration-color: #808080; font-weight: bold\">Name: isFraud, dtype: int64</span>\n",
       "</pre>\n"
      ],
      "text/plain": [
       "\u001b[1;36m0\u001b[0m\u001b[1;90m    \u001b[0m\u001b[1;36m528812\u001b[0m\n",
       "\u001b[1;36m1\u001b[0m\u001b[1;90m      \u001b[0m\u001b[1;36m4097\u001b[0m\n",
       "\u001b[1;90mName: isFraud, dtype: int64\u001b[0m\n"
      ]
     },
     "metadata": {},
     "output_type": "display_data"
    }
   ],
   "source": [
    "console.print('Fraudulent transaction in CASH OUT transaction type', style='bold underline bright_red')\n",
    "console.print(cash_out['isFraud'].value_counts(), style='bold bright_black')\n",
    "console.print('Fraudulent transaction in TRANSFER transaction type', style='bold underline bright_red')\n",
    "console.print(transfer['isFraud'].value_counts(), style='bold  bright_black')"
   ]
  },
  {
   "cell_type": "markdown",
   "metadata": {},
   "source": [
    "### Fraudulent dataset"
   ]
  },
  {
   "cell_type": "code",
   "execution_count": 24,
   "metadata": {},
   "outputs": [
    {
     "data": {
      "text/html": [
       "<pre style=\"white-space:pre;overflow-x:auto;line-height:normal;font-family:Menlo,'DejaVu Sans Mono',consolas,'Courier New',monospace\"><span style=\"font-weight: bold\">Shape: (</span><span style=\"color: #008080; text-decoration-color: #008080; font-weight: bold\">8213</span><span style=\"font-weight: bold\">, </span><span style=\"color: #008080; text-decoration-color: #008080; font-weight: bold\">11</span><span style=\"font-weight: bold\">)</span>\n",
       "</pre>\n"
      ],
      "text/plain": [
       "\u001b[1mShape: \u001b[0m\u001b[1m(\u001b[0m\u001b[1;36m8213\u001b[0m\u001b[1m, \u001b[0m\u001b[1;36m11\u001b[0m\u001b[1m)\u001b[0m\n"
      ]
     },
     "metadata": {},
     "output_type": "display_data"
    },
    {
     "data": {
      "text/html": [
       "<div>\n",
       "<style scoped>\n",
       "    .dataframe tbody tr th:only-of-type {\n",
       "        vertical-align: middle;\n",
       "    }\n",
       "\n",
       "    .dataframe tbody tr th {\n",
       "        vertical-align: top;\n",
       "    }\n",
       "\n",
       "    .dataframe thead th {\n",
       "        text-align: right;\n",
       "    }\n",
       "</style>\n",
       "<table border=\"1\" class=\"dataframe\">\n",
       "  <thead>\n",
       "    <tr style=\"text-align: right;\">\n",
       "      <th></th>\n",
       "      <th>step</th>\n",
       "      <th>type</th>\n",
       "      <th>amount</th>\n",
       "      <th>nameOrig</th>\n",
       "      <th>oldbalanceOrg</th>\n",
       "      <th>newbalanceOrig</th>\n",
       "      <th>nameDest</th>\n",
       "      <th>oldbalanceDest</th>\n",
       "      <th>newbalanceDest</th>\n",
       "      <th>isFraud</th>\n",
       "      <th>isFlaggedFraud</th>\n",
       "    </tr>\n",
       "  </thead>\n",
       "  <tbody>\n",
       "    <tr>\n",
       "      <th>2</th>\n",
       "      <td>1</td>\n",
       "      <td>TRANSFER</td>\n",
       "      <td>181.0</td>\n",
       "      <td>C1305486145</td>\n",
       "      <td>181.0</td>\n",
       "      <td>0.0</td>\n",
       "      <td>C553264065</td>\n",
       "      <td>0.0</td>\n",
       "      <td>0.0</td>\n",
       "      <td>1</td>\n",
       "      <td>0</td>\n",
       "    </tr>\n",
       "    <tr>\n",
       "      <th>3</th>\n",
       "      <td>1</td>\n",
       "      <td>CASH_OUT</td>\n",
       "      <td>181.0</td>\n",
       "      <td>C840083671</td>\n",
       "      <td>181.0</td>\n",
       "      <td>0.0</td>\n",
       "      <td>C38997010</td>\n",
       "      <td>21182.0</td>\n",
       "      <td>0.0</td>\n",
       "      <td>1</td>\n",
       "      <td>0</td>\n",
       "    </tr>\n",
       "    <tr>\n",
       "      <th>251</th>\n",
       "      <td>1</td>\n",
       "      <td>TRANSFER</td>\n",
       "      <td>2806.0</td>\n",
       "      <td>C1420196421</td>\n",
       "      <td>2806.0</td>\n",
       "      <td>0.0</td>\n",
       "      <td>C972765878</td>\n",
       "      <td>0.0</td>\n",
       "      <td>0.0</td>\n",
       "      <td>1</td>\n",
       "      <td>0</td>\n",
       "    </tr>\n",
       "    <tr>\n",
       "      <th>252</th>\n",
       "      <td>1</td>\n",
       "      <td>CASH_OUT</td>\n",
       "      <td>2806.0</td>\n",
       "      <td>C2101527076</td>\n",
       "      <td>2806.0</td>\n",
       "      <td>0.0</td>\n",
       "      <td>C1007251739</td>\n",
       "      <td>26202.0</td>\n",
       "      <td>0.0</td>\n",
       "      <td>1</td>\n",
       "      <td>0</td>\n",
       "    </tr>\n",
       "    <tr>\n",
       "      <th>680</th>\n",
       "      <td>1</td>\n",
       "      <td>TRANSFER</td>\n",
       "      <td>20128.0</td>\n",
       "      <td>C137533655</td>\n",
       "      <td>20128.0</td>\n",
       "      <td>0.0</td>\n",
       "      <td>C1848415041</td>\n",
       "      <td>0.0</td>\n",
       "      <td>0.0</td>\n",
       "      <td>1</td>\n",
       "      <td>0</td>\n",
       "    </tr>\n",
       "  </tbody>\n",
       "</table>\n",
       "</div>"
      ],
      "text/plain": [
       "     step      type   amount     nameOrig  oldbalanceOrg  newbalanceOrig  \\\n",
       "2       1  TRANSFER    181.0  C1305486145          181.0             0.0   \n",
       "3       1  CASH_OUT    181.0   C840083671          181.0             0.0   \n",
       "251     1  TRANSFER   2806.0  C1420196421         2806.0             0.0   \n",
       "252     1  CASH_OUT   2806.0  C2101527076         2806.0             0.0   \n",
       "680     1  TRANSFER  20128.0   C137533655        20128.0             0.0   \n",
       "\n",
       "        nameDest  oldbalanceDest  newbalanceDest  isFraud  isFlaggedFraud  \n",
       "2     C553264065             0.0             0.0        1               0  \n",
       "3      C38997010         21182.0             0.0        1               0  \n",
       "251   C972765878             0.0             0.0        1               0  \n",
       "252  C1007251739         26202.0             0.0        1               0  \n",
       "680  C1848415041             0.0             0.0        1               0  "
      ]
     },
     "execution_count": 24,
     "metadata": {},
     "output_type": "execute_result"
    }
   ],
   "source": [
    "f_df = df[df[\"isFraud\"] == 1]\n",
    "console.print(f'Shape: {f_df.shape}', style='bold')\n",
    "f_df.head()"
   ]
  },
  {
   "cell_type": "code",
   "execution_count": 25,
   "metadata": {},
   "outputs": [
    {
     "data": {
      "text/html": [
       "<pre style=\"white-space:pre;overflow-x:auto;line-height:normal;font-family:Menlo,'DejaVu Sans Mono',consolas,'Courier New',monospace\"><span style=\"font-weight: bold\">type      isFlaggedFraud</span>\n",
       "<span style=\"font-weight: bold\">CASH_OUT  </span><span style=\"color: #008080; text-decoration-color: #008080; font-weight: bold\">0</span><span style=\"font-weight: bold\">                 </span><span style=\"color: #008080; text-decoration-color: #008080; font-weight: bold\">4116</span>\n",
       "<span style=\"font-weight: bold\">TRANSFER  </span><span style=\"color: #008080; text-decoration-color: #008080; font-weight: bold\">0</span><span style=\"font-weight: bold\">                 </span><span style=\"color: #008080; text-decoration-color: #008080; font-weight: bold\">4081</span>\n",
       "<span style=\"font-weight: bold\">          </span><span style=\"color: #008080; text-decoration-color: #008080; font-weight: bold\">1</span><span style=\"font-weight: bold\">                   </span><span style=\"color: #008080; text-decoration-color: #008080; font-weight: bold\">16</span>\n",
       "<span style=\"font-weight: bold\">Name: isFlaggedFraud, dtype: int64</span>\n",
       "</pre>\n"
      ],
      "text/plain": [
       "\u001b[1mtype      isFlaggedFraud\u001b[0m\n",
       "\u001b[1mCASH_OUT  \u001b[0m\u001b[1;36m0\u001b[0m\u001b[1m                 \u001b[0m\u001b[1;36m4116\u001b[0m\n",
       "\u001b[1mTRANSFER  \u001b[0m\u001b[1;36m0\u001b[0m\u001b[1m                 \u001b[0m\u001b[1;36m4081\u001b[0m\n",
       "\u001b[1m          \u001b[0m\u001b[1;36m1\u001b[0m\u001b[1m                   \u001b[0m\u001b[1;36m16\u001b[0m\n",
       "\u001b[1mName: isFlaggedFraud, dtype: int64\u001b[0m\n"
      ]
     },
     "metadata": {},
     "output_type": "display_data"
    },
    {
     "data": {
      "image/png": "[encoded data removed]",
      "text/plain": [
       "<Figure size 504x360 with 1 Axes>"
      ]
     },
     "metadata": {},
     "output_type": "display_data"
    }
   ],
   "source": [
    "console.print(f_df.groupby(['type', 'isFlaggedFraud'])['isFlaggedFraud'].count(), style='bold')\n",
    "plt.figure(figsize=(7, 5))\n",
    "sns.countplot('type', data=f_df, hue=\"isFlaggedFraud\")\n",
    "plt.title(\"Fraudulent transaction by types on which flagged fraud by the system\")\n",
    "plt.show()"
   ]
  },
  {
   "cell_type": "markdown",
   "metadata": {},
   "source": [
    "The computer has flagged just 16 transaction as Fraud in the 'TRANSFER' category."
   ]
  },
  {
   "cell_type": "markdown",
   "metadata": {},
   "source": [
    "## Feature Engineering\n",
    "Since the dataset is very big we are taking the 'CASH_OUT' and 'TRANSFER' type for the model buildling. Since these type has only has most fraudulent transaction. We will be adding relevant features to make the model more reliable."
   ]
  },
  {
   "cell_type": "code",
   "execution_count": 26,
   "metadata": {},
   "outputs": [
    {
     "data": {
      "text/html": [
       "<div>\n",
       "<style scoped>\n",
       "    .dataframe tbody tr th:only-of-type {\n",
       "        vertical-align: middle;\n",
       "    }\n",
       "\n",
       "    .dataframe tbody tr th {\n",
       "        vertical-align: top;\n",
       "    }\n",
       "\n",
       "    .dataframe thead th {\n",
       "        text-align: right;\n",
       "    }\n",
       "</style>\n",
       "<table border=\"1\" class=\"dataframe\">\n",
       "  <thead>\n",
       "    <tr style=\"text-align: right;\">\n",
       "      <th></th>\n",
       "      <th>step</th>\n",
       "      <th>type</th>\n",
       "      <th>amount</th>\n",
       "      <th>oldbalanceOrg</th>\n",
       "      <th>newbalanceOrig</th>\n",
       "      <th>oldbalanceDest</th>\n",
       "      <th>newbalanceDest</th>\n",
       "      <th>isFraud</th>\n",
       "    </tr>\n",
       "  </thead>\n",
       "  <tbody>\n",
       "    <tr>\n",
       "      <th>0</th>\n",
       "      <td>1</td>\n",
       "      <td>PAYMENT</td>\n",
       "      <td>9839.64</td>\n",
       "      <td>170136.0</td>\n",
       "      <td>160296.36</td>\n",
       "      <td>0.0</td>\n",
       "      <td>0.0</td>\n",
       "      <td>0</td>\n",
       "    </tr>\n",
       "    <tr>\n",
       "      <th>1</th>\n",
       "      <td>1</td>\n",
       "      <td>PAYMENT</td>\n",
       "      <td>1864.28</td>\n",
       "      <td>21249.0</td>\n",
       "      <td>19384.72</td>\n",
       "      <td>0.0</td>\n",
       "      <td>0.0</td>\n",
       "      <td>0</td>\n",
       "    </tr>\n",
       "    <tr>\n",
       "      <th>2</th>\n",
       "      <td>1</td>\n",
       "      <td>TRANSFER</td>\n",
       "      <td>181.00</td>\n",
       "      <td>181.0</td>\n",
       "      <td>0.00</td>\n",
       "      <td>0.0</td>\n",
       "      <td>0.0</td>\n",
       "      <td>1</td>\n",
       "    </tr>\n",
       "    <tr>\n",
       "      <th>3</th>\n",
       "      <td>1</td>\n",
       "      <td>CASH_OUT</td>\n",
       "      <td>181.00</td>\n",
       "      <td>181.0</td>\n",
       "      <td>0.00</td>\n",
       "      <td>21182.0</td>\n",
       "      <td>0.0</td>\n",
       "      <td>1</td>\n",
       "    </tr>\n",
       "    <tr>\n",
       "      <th>4</th>\n",
       "      <td>1</td>\n",
       "      <td>PAYMENT</td>\n",
       "      <td>11668.14</td>\n",
       "      <td>41554.0</td>\n",
       "      <td>29885.86</td>\n",
       "      <td>0.0</td>\n",
       "      <td>0.0</td>\n",
       "      <td>0</td>\n",
       "    </tr>\n",
       "  </tbody>\n",
       "</table>\n",
       "</div>"
      ],
      "text/plain": [
       "   step      type    amount  oldbalanceOrg  newbalanceOrig  oldbalanceDest  \\\n",
       "0     1   PAYMENT   9839.64       170136.0       160296.36             0.0   \n",
       "1     1   PAYMENT   1864.28        21249.0        19384.72             0.0   \n",
       "2     1  TRANSFER    181.00          181.0            0.00             0.0   \n",
       "3     1  CASH_OUT    181.00          181.0            0.00         21182.0   \n",
       "4     1   PAYMENT  11668.14        41554.0        29885.86             0.0   \n",
       "\n",
       "   newbalanceDest  isFraud  \n",
       "0             0.0        0  \n",
       "1             0.0        0  \n",
       "2             0.0        1  \n",
       "3             0.0        1  \n",
       "4             0.0        0  "
      ]
     },
     "execution_count": 26,
     "metadata": {},
     "output_type": "execute_result"
    }
   ],
   "source": [
    "df_f = df.drop(['nameOrig', 'nameDest', 'isFlaggedFraud'], axis=1)\n",
    "df_f.head()"
   ]
  },
  {
   "cell_type": "code",
   "execution_count": 27,
   "metadata": {},
   "outputs": [
    {
     "data": {
      "text/html": [
       "<pre style=\"white-space:pre;overflow-x:auto;line-height:normal;font-family:Menlo,'DejaVu Sans Mono',consolas,'Courier New',monospace\"><span style=\"color: #808080; text-decoration-color: #808080; font-weight: bold\">Total Records: </span><span style=\"color: #008080; text-decoration-color: #008080; font-weight: bold\">2</span><span style=\"color: #808080; text-decoration-color: #808080; font-weight: bold\">,</span><span style=\"color: #008080; text-decoration-color: #008080; font-weight: bold\">770</span><span style=\"color: #808080; text-decoration-color: #808080; font-weight: bold\">,</span><span style=\"color: #008080; text-decoration-color: #008080; font-weight: bold\">409</span>\n",
       "</pre>\n"
      ],
      "text/plain": [
       "\u001b[1;90mTotal Records: \u001b[0m\u001b[1;36m2\u001b[0m\u001b[1;90m,\u001b[0m\u001b[1;36m770\u001b[0m\u001b[1;90m,\u001b[0m\u001b[1;36m409\u001b[0m\n"
      ]
     },
     "metadata": {},
     "output_type": "display_data"
    },
    {
     "data": {
      "text/html": [
       "<div>\n",
       "<style scoped>\n",
       "    .dataframe tbody tr th:only-of-type {\n",
       "        vertical-align: middle;\n",
       "    }\n",
       "\n",
       "    .dataframe tbody tr th {\n",
       "        vertical-align: top;\n",
       "    }\n",
       "\n",
       "    .dataframe thead th {\n",
       "        text-align: right;\n",
       "    }\n",
       "</style>\n",
       "<table border=\"1\" class=\"dataframe\">\n",
       "  <thead>\n",
       "    <tr style=\"text-align: right;\">\n",
       "      <th></th>\n",
       "      <th>step</th>\n",
       "      <th>type</th>\n",
       "      <th>amount</th>\n",
       "      <th>oldbalanceOrg</th>\n",
       "      <th>newbalanceOrig</th>\n",
       "      <th>oldbalanceDest</th>\n",
       "      <th>newbalanceDest</th>\n",
       "      <th>isFraud</th>\n",
       "    </tr>\n",
       "  </thead>\n",
       "  <tbody>\n",
       "    <tr>\n",
       "      <th>2</th>\n",
       "      <td>1</td>\n",
       "      <td>TRANSFER</td>\n",
       "      <td>181.00</td>\n",
       "      <td>181.0</td>\n",
       "      <td>0.0</td>\n",
       "      <td>0.0</td>\n",
       "      <td>0.00</td>\n",
       "      <td>1</td>\n",
       "    </tr>\n",
       "    <tr>\n",
       "      <th>3</th>\n",
       "      <td>1</td>\n",
       "      <td>CASH_OUT</td>\n",
       "      <td>181.00</td>\n",
       "      <td>181.0</td>\n",
       "      <td>0.0</td>\n",
       "      <td>21182.0</td>\n",
       "      <td>0.00</td>\n",
       "      <td>1</td>\n",
       "    </tr>\n",
       "    <tr>\n",
       "      <th>15</th>\n",
       "      <td>1</td>\n",
       "      <td>CASH_OUT</td>\n",
       "      <td>229133.94</td>\n",
       "      <td>15325.0</td>\n",
       "      <td>0.0</td>\n",
       "      <td>5083.0</td>\n",
       "      <td>51513.44</td>\n",
       "      <td>0</td>\n",
       "    </tr>\n",
       "    <tr>\n",
       "      <th>19</th>\n",
       "      <td>1</td>\n",
       "      <td>TRANSFER</td>\n",
       "      <td>215310.30</td>\n",
       "      <td>705.0</td>\n",
       "      <td>0.0</td>\n",
       "      <td>22425.0</td>\n",
       "      <td>0.00</td>\n",
       "      <td>0</td>\n",
       "    </tr>\n",
       "    <tr>\n",
       "      <th>24</th>\n",
       "      <td>1</td>\n",
       "      <td>TRANSFER</td>\n",
       "      <td>311685.89</td>\n",
       "      <td>10835.0</td>\n",
       "      <td>0.0</td>\n",
       "      <td>6267.0</td>\n",
       "      <td>2719172.89</td>\n",
       "      <td>0</td>\n",
       "    </tr>\n",
       "  </tbody>\n",
       "</table>\n",
       "</div>"
      ],
      "text/plain": [
       "    step      type     amount  oldbalanceOrg  newbalanceOrig  oldbalanceDest  \\\n",
       "2      1  TRANSFER     181.00          181.0             0.0             0.0   \n",
       "3      1  CASH_OUT     181.00          181.0             0.0         21182.0   \n",
       "15     1  CASH_OUT  229133.94        15325.0             0.0          5083.0   \n",
       "19     1  TRANSFER  215310.30          705.0             0.0         22425.0   \n",
       "24     1  TRANSFER  311685.89        10835.0             0.0          6267.0   \n",
       "\n",
       "    newbalanceDest  isFraud  \n",
       "2             0.00        1  \n",
       "3             0.00        1  \n",
       "15        51513.44        0  \n",
       "19            0.00        0  \n",
       "24      2719172.89        0  "
      ]
     },
     "execution_count": 27,
     "metadata": {},
     "output_type": "execute_result"
    }
   ],
   "source": [
    "df_f = df_f[(df_f['type'] == \"CASH_OUT\") | (df_f['type'] == \"TRANSFER\")]\n",
    "console.print(f\"Total Records: {df_f.shape[0]:,}\", style=\"bold bright_black\")\n",
    "df_f.head()"
   ]
  },
  {
   "cell_type": "code",
   "execution_count": 28,
   "metadata": {},
   "outputs": [
    {
     "data": {
      "text/html": [
       "<pre style=\"white-space:pre;overflow-x:auto;line-height:normal;font-family:Menlo,'DejaVu Sans Mono',consolas,'Courier New',monospace\"><span style=\"color: #808080; text-decoration-color: #808080; font-weight: bold\">type      isFraud</span>\n",
       "<span style=\"color: #808080; text-decoration-color: #808080; font-weight: bold\">CASH_OUT  </span><span style=\"color: #008080; text-decoration-color: #008080; font-weight: bold\">0</span><span style=\"color: #808080; text-decoration-color: #808080; font-weight: bold\">          </span><span style=\"color: #008080; text-decoration-color: #008080; font-weight: bold\">2233384</span>\n",
       "<span style=\"color: #808080; text-decoration-color: #808080; font-weight: bold\">          </span><span style=\"color: #008080; text-decoration-color: #008080; font-weight: bold\">1</span><span style=\"color: #808080; text-decoration-color: #808080; font-weight: bold\">             </span><span style=\"color: #008080; text-decoration-color: #008080; font-weight: bold\">4116</span>\n",
       "<span style=\"color: #808080; text-decoration-color: #808080; font-weight: bold\">TRANSFER  </span><span style=\"color: #008080; text-decoration-color: #008080; font-weight: bold\">0</span><span style=\"color: #808080; text-decoration-color: #808080; font-weight: bold\">           </span><span style=\"color: #008080; text-decoration-color: #008080; font-weight: bold\">528812</span>\n",
       "<span style=\"color: #808080; text-decoration-color: #808080; font-weight: bold\">          </span><span style=\"color: #008080; text-decoration-color: #008080; font-weight: bold\">1</span><span style=\"color: #808080; text-decoration-color: #808080; font-weight: bold\">             </span><span style=\"color: #008080; text-decoration-color: #008080; font-weight: bold\">4097</span>\n",
       "<span style=\"color: #808080; text-decoration-color: #808080; font-weight: bold\">Name: isFraud, dtype: int64</span>\n",
       "</pre>\n"
      ],
      "text/plain": [
       "\u001b[1;90mtype      isFraud\u001b[0m\n",
       "\u001b[1;90mCASH_OUT  \u001b[0m\u001b[1;36m0\u001b[0m\u001b[1;90m          \u001b[0m\u001b[1;36m2233384\u001b[0m\n",
       "\u001b[1;90m          \u001b[0m\u001b[1;36m1\u001b[0m\u001b[1;90m             \u001b[0m\u001b[1;36m4116\u001b[0m\n",
       "\u001b[1;90mTRANSFER  \u001b[0m\u001b[1;36m0\u001b[0m\u001b[1;90m           \u001b[0m\u001b[1;36m528812\u001b[0m\n",
       "\u001b[1;90m          \u001b[0m\u001b[1;36m1\u001b[0m\u001b[1;90m             \u001b[0m\u001b[1;36m4097\u001b[0m\n",
       "\u001b[1;90mName: isFraud, dtype: int64\u001b[0m\n"
      ]
     },
     "metadata": {},
     "output_type": "display_data"
    }
   ],
   "source": [
    "fraud_count = df_f.groupby(['type', 'isFraud'])['isFraud'].count()\n",
    "console.print(fraud_count, style='bold bright_black')"
   ]
  },
  {
   "cell_type": "markdown",
   "metadata": {},
   "source": [
    "### Taking note of the balances before and after transactions\n",
    "\n",
    "As most of the transactions shows error in before and after transactions, we calculate the error"
   ]
  },
  {
   "cell_type": "code",
   "execution_count": 29,
   "metadata": {},
   "outputs": [
    {
     "data": {
      "text/html": [
       "<pre style=\"white-space:pre;overflow-x:auto;line-height:normal;font-family:Menlo,'DejaVu Sans Mono',consolas,'Courier New',monospace\"><span style=\"color: #ff0000; text-decoration-color: #ff0000; font-weight: bold\">Percentage of observations with balance errors in the account giving money:  </span><span style=\"color: #008080; text-decoration-color: #008080; font-weight: bold\">85.0</span>\n",
       "</pre>\n"
      ],
      "text/plain": [
       "\u001b[1;91mPercentage of observations with balance errors in the account giving money:  \u001b[0m\u001b[1;36m85.0\u001b[0m\n"
      ]
     },
     "metadata": {},
     "output_type": "display_data"
    },
    {
     "data": {
      "text/html": [
       "<pre style=\"white-space:pre;overflow-x:auto;line-height:normal;font-family:Menlo,'DejaVu Sans Mono',consolas,'Courier New',monospace\"><span style=\"color: #ff0000; text-decoration-color: #ff0000; font-weight: bold\">Percentage of observations with balance errors in the account receiving money:  </span><span style=\"color: #008080; text-decoration-color: #008080; font-weight: bold\">100.0</span>\n",
       "</pre>\n"
      ],
      "text/plain": [
       "\u001b[1;91mPercentage of observations with balance errors in the account receiving money:  \u001b[0m\u001b[1;36m100.0\u001b[0m\n"
      ]
     },
     "metadata": {},
     "output_type": "display_data"
    }
   ],
   "source": [
    "wrong_orig_bal = sum(df[\"oldbalanceOrg\"] - df[\"amount\"] != df[\"newbalanceOrig\"])\n",
    "wrong_dest_bal = sum(df[\"newbalanceDest\"] + df[\"amount\"] != df[\"newbalanceDest\"])\n",
    "console.print(\"Percentage of observations with balance errors in the account giving money: \",\n",
    "              100*round(wrong_orig_bal/len(df),2), style='bold bright_red')\n",
    "console.print(\"Percentage of observations with balance errors in the account receiving money: \",\n",
    "              100*round(wrong_dest_bal/len(df),2), style='bold bright_red')"
   ]
  },
  {
   "cell_type": "code",
   "execution_count": 50,
   "metadata": {},
   "outputs": [
    {
     "data": {
      "text/html": [
       "<div>\n",
       "<style scoped>\n",
       "    .dataframe tbody tr th:only-of-type {\n",
       "        vertical-align: middle;\n",
       "    }\n",
       "\n",
       "    .dataframe tbody tr th {\n",
       "        vertical-align: top;\n",
       "    }\n",
       "\n",
       "    .dataframe thead th {\n",
       "        text-align: right;\n",
       "    }\n",
       "</style>\n",
       "<table border=\"1\" class=\"dataframe\">\n",
       "  <thead>\n",
       "    <tr style=\"text-align: right;\">\n",
       "      <th></th>\n",
       "      <th>step</th>\n",
       "      <th>type</th>\n",
       "      <th>amount</th>\n",
       "      <th>oldbalanceOrg</th>\n",
       "      <th>newbalanceOrig</th>\n",
       "      <th>oldbalanceDest</th>\n",
       "      <th>newbalanceDest</th>\n",
       "      <th>isFraud</th>\n",
       "      <th>errorBalanceOrg</th>\n",
       "      <th>errorBalanceDest</th>\n",
       "    </tr>\n",
       "  </thead>\n",
       "  <tbody>\n",
       "    <tr>\n",
       "      <th>2</th>\n",
       "      <td>1</td>\n",
       "      <td>TRANSFER</td>\n",
       "      <td>181.00</td>\n",
       "      <td>181.0</td>\n",
       "      <td>0.0</td>\n",
       "      <td>0.0</td>\n",
       "      <td>0.00</td>\n",
       "      <td>1</td>\n",
       "      <td>0.00</td>\n",
       "      <td>181.0</td>\n",
       "    </tr>\n",
       "    <tr>\n",
       "      <th>3</th>\n",
       "      <td>1</td>\n",
       "      <td>CASH_OUT</td>\n",
       "      <td>181.00</td>\n",
       "      <td>181.0</td>\n",
       "      <td>0.0</td>\n",
       "      <td>21182.0</td>\n",
       "      <td>0.00</td>\n",
       "      <td>1</td>\n",
       "      <td>0.00</td>\n",
       "      <td>21363.0</td>\n",
       "    </tr>\n",
       "    <tr>\n",
       "      <th>15</th>\n",
       "      <td>1</td>\n",
       "      <td>CASH_OUT</td>\n",
       "      <td>229133.94</td>\n",
       "      <td>15325.0</td>\n",
       "      <td>0.0</td>\n",
       "      <td>5083.0</td>\n",
       "      <td>51513.44</td>\n",
       "      <td>0</td>\n",
       "      <td>213808.94</td>\n",
       "      <td>182703.5</td>\n",
       "    </tr>\n",
       "    <tr>\n",
       "      <th>19</th>\n",
       "      <td>1</td>\n",
       "      <td>TRANSFER</td>\n",
       "      <td>215310.30</td>\n",
       "      <td>705.0</td>\n",
       "      <td>0.0</td>\n",
       "      <td>22425.0</td>\n",
       "      <td>0.00</td>\n",
       "      <td>0</td>\n",
       "      <td>214605.30</td>\n",
       "      <td>237735.3</td>\n",
       "    </tr>\n",
       "    <tr>\n",
       "      <th>24</th>\n",
       "      <td>1</td>\n",
       "      <td>TRANSFER</td>\n",
       "      <td>311685.89</td>\n",
       "      <td>10835.0</td>\n",
       "      <td>0.0</td>\n",
       "      <td>6267.0</td>\n",
       "      <td>2719172.89</td>\n",
       "      <td>0</td>\n",
       "      <td>300850.89</td>\n",
       "      <td>-2401220.0</td>\n",
       "    </tr>\n",
       "  </tbody>\n",
       "</table>\n",
       "</div>"
      ],
      "text/plain": [
       "    step      type     amount  oldbalanceOrg  newbalanceOrig  oldbalanceDest  \\\n",
       "2      1  TRANSFER     181.00          181.0             0.0             0.0   \n",
       "3      1  CASH_OUT     181.00          181.0             0.0         21182.0   \n",
       "15     1  CASH_OUT  229133.94        15325.0             0.0          5083.0   \n",
       "19     1  TRANSFER  215310.30          705.0             0.0         22425.0   \n",
       "24     1  TRANSFER  311685.89        10835.0             0.0          6267.0   \n",
       "\n",
       "    newbalanceDest  isFraud  errorBalanceOrg  errorBalanceDest  \n",
       "2             0.00        1             0.00             181.0  \n",
       "3             0.00        1             0.00           21363.0  \n",
       "15        51513.44        0        213808.94          182703.5  \n",
       "19            0.00        0        214605.30          237735.3  \n",
       "24      2719172.89        0        300850.89        -2401220.0  "
      ]
     },
     "execution_count": 50,
     "metadata": {},
     "output_type": "execute_result"
    }
   ],
   "source": [
    "# adding features \"errorBalanceOrg\" and \"errorBalanceDest\"\n",
    "df_new = df_f.copy(deep=True)\n",
    "df_new[\"errorBalanceOrg\"] = df_new.newbalanceOrig + df_new.amount - df_new.oldbalanceOrg\n",
    "df_new[\"errorBalanceDest\"] = df_new.oldbalanceDest + df_new.amount - df_new.newbalanceDest\n",
    "df_new.head()"
   ]
  },
  {
   "cell_type": "code",
   "execution_count": 31,
   "metadata": {},
   "outputs": [],
   "source": [
    "fraud = df_new[df_new['isFraud'] == 1]\n",
    "valid = df_new[df_new['isFraud'] == 0]"
   ]
  },
  {
   "cell_type": "code",
   "execution_count": 32,
   "metadata": {},
   "outputs": [
    {
     "data": {
      "text/html": [
       "<pre style=\"white-space:pre;overflow-x:auto;line-height:normal;font-family:Menlo,'DejaVu Sans Mono',consolas,'Courier New',monospace\"><span style=\"color: #808080; text-decoration-color: #808080; font-weight: bold\">Proportion of fraudulent transactions with errorBalanceDest &gt; </span><span style=\"color: #008080; text-decoration-color: #008080; font-weight: bold\">0</span><span style=\"color: #808080; text-decoration-color: #808080; font-weight: bold\">:  </span><span style=\"color: #008080; text-decoration-color: #008080; font-weight: bold\">57.128941921344214</span>\n",
       "</pre>\n"
      ],
      "text/plain": [
       "\u001b[1;90mProportion of fraudulent transactions with errorBalanceDest > \u001b[0m\u001b[1;36m0\u001b[0m\u001b[1;90m:  \u001b[0m\u001b[1;36m57.128941921344214\u001b[0m\n"
      ]
     },
     "metadata": {},
     "output_type": "display_data"
    },
    {
     "data": {
      "text/html": [
       "<pre style=\"white-space:pre;overflow-x:auto;line-height:normal;font-family:Menlo,'DejaVu Sans Mono',consolas,'Courier New',monospace\"><span style=\"color: #808080; text-decoration-color: #808080; font-weight: bold\">Proportion of valid transactions with errorBalanceDest &gt; </span><span style=\"color: #008080; text-decoration-color: #008080; font-weight: bold\">0</span><span style=\"color: #808080; text-decoration-color: #808080; font-weight: bold\">:  </span><span style=\"color: #008080; text-decoration-color: #008080; font-weight: bold\">19.744942067832984</span>\n",
       "</pre>\n"
      ],
      "text/plain": [
       "\u001b[1;90mProportion of valid transactions with errorBalanceDest > \u001b[0m\u001b[1;36m0\u001b[0m\u001b[1;90m:  \u001b[0m\u001b[1;36m19.744942067832984\u001b[0m\n"
      ]
     },
     "metadata": {},
     "output_type": "display_data"
    },
    {
     "data": {
      "text/html": [
       "<pre style=\"white-space:pre;overflow-x:auto;line-height:normal;font-family:Menlo,'DejaVu Sans Mono',consolas,'Courier New',monospace\"><span style=\"color: #808080; text-decoration-color: #808080; font-weight: bold\">Proportion of fraudulent transactions with errorBalanceOrg &gt; </span><span style=\"color: #008080; text-decoration-color: #008080; font-weight: bold\">0</span><span style=\"color: #808080; text-decoration-color: #808080; font-weight: bold\">:  </span><span style=\"color: #008080; text-decoration-color: #008080; font-weight: bold\">0.633142578838427</span>\n",
       "</pre>\n"
      ],
      "text/plain": [
       "\u001b[1;90mProportion of fraudulent transactions with errorBalanceOrg > \u001b[0m\u001b[1;36m0\u001b[0m\u001b[1;90m:  \u001b[0m\u001b[1;36m0.633142578838427\u001b[0m\n"
      ]
     },
     "metadata": {},
     "output_type": "display_data"
    },
    {
     "data": {
      "text/html": [
       "<pre style=\"white-space:pre;overflow-x:auto;line-height:normal;font-family:Menlo,'DejaVu Sans Mono',consolas,'Courier New',monospace\"><span style=\"color: #808080; text-decoration-color: #808080; font-weight: bold\">Proportion of valid transactions with errorBalanceOrg &gt; </span><span style=\"color: #008080; text-decoration-color: #008080; font-weight: bold\">0</span><span style=\"color: #808080; text-decoration-color: #808080; font-weight: bold\">:  </span><span style=\"color: #008080; text-decoration-color: #008080; font-weight: bold\">90.67180605576142</span>\n",
       "</pre>\n"
      ],
      "text/plain": [
       "\u001b[1;90mProportion of valid transactions with errorBalanceOrg > \u001b[0m\u001b[1;36m0\u001b[0m\u001b[1;90m:  \u001b[0m\u001b[1;36m90.67180605576142\u001b[0m\n"
      ]
     },
     "metadata": {},
     "output_type": "display_data"
    }
   ],
   "source": [
    "console.print(\"Proportion of fraudulent transactions with errorBalanceDest > 0: \",\n",
    "              len(fraud[fraud.errorBalanceDest > 0])/len(fraud) * 100, style='bold bright_black')\n",
    "console.print(\"Proportion of valid transactions with errorBalanceDest > 0: \",\n",
    "      len(valid[valid.errorBalanceDest > 0])/len(valid) * 100, style='bold bright_black')\n",
    "console.print(\"Proportion of fraudulent transactions with errorBalanceOrg > 0: \",\n",
    "      len(fraud[fraud.errorBalanceOrg > 0])/len(fraud) * 100, style='bold bright_black')\n",
    "console.print(\"Proportion of valid transactions with errorBalanceOrg > 0: \",\n",
    "      len(valid[valid.errorBalanceOrg > 0])/len(valid) * 100, style='bold bright_black')"
   ]
  },
  {
   "cell_type": "markdown",
   "metadata": {},
   "source": [
    "Conclusions:\n",
    "1. Most of the transactions where errorbalanceDest > 0 has high chance of being fraud\n",
    "2. Valid transactions are most likely to have errorbalanceOrig > 0 "
   ]
  },
  {
   "cell_type": "markdown",
   "metadata": {},
   "source": [
    "### Step feature in the dataset\n",
    "\n",
    "step - maps a unit of time in the real world. For example 1 step is 1 hour of time. Total steps 744 (30 days simulation)."
   ]
  },
  {
   "cell_type": "code",
   "execution_count": 33,
   "metadata": {},
   "outputs": [
    {
     "data": {
      "image/png": "[encoded data removed]",
      "text/plain": [
       "<Figure size 432x288 with 1 Axes>"
      ]
     },
     "metadata": {},
     "output_type": "display_data"
    },
    {
     "data": {
      "image/png": "[encoded data removed]",
      "text/plain": [
       "<Figure size 432x288 with 1 Axes>"
      ]
     },
     "metadata": {},
     "output_type": "display_data"
    }
   ],
   "source": [
    "bins = 50\n",
    "valid.hist(column=\"step\", color=\"green\", bins=bins)\n",
    "plt.xlabel(\"1 hour time step\")\n",
    "plt.ylabel(\"# of transactions\")\n",
    "plt.title(\"# of valid transactions over time\")\n",
    "\n",
    "fraud.hist(column =\"step\", color=\"red\", bins=bins)\n",
    "plt.xlabel(\"1 hour time step\")\n",
    "plt.ylabel(\"# of transactions\")\n",
    "plt.title(\"# of fraud transactions over time\")\n",
    "\n",
    "plt.show()"
   ]
  },
  {
   "cell_type": "markdown",
   "metadata": {},
   "source": [
    "1. A lot of Valid transactions occur during 0 to 60 hours and then again 120 to 400 hrs\n",
    "2. The fraud transactions dont change much throughout the time frame"
   ]
  },
  {
   "cell_type": "code",
   "execution_count": 34,
   "metadata": {},
   "outputs": [],
   "source": [
    "num_days = 7\n",
    "num_hours = 24\n",
    "fraud_days = fraud.step % num_days\n",
    "fraud_hours = fraud.step % num_hours\n",
    "valid_days = valid.step % num_days\n",
    "valid_hours = valid.step % num_hours"
   ]
  },
  {
   "cell_type": "code",
   "execution_count": 35,
   "metadata": {},
   "outputs": [
    {
     "data": {
      "image/png": "[encoded data removed]",
      "text/plain": [
       "<Figure size 432x288 with 2 Axes>"
      ]
     },
     "metadata": {},
     "output_type": "display_data"
    }
   ],
   "source": [
    "# plotting scatterplot of the days of the week\n",
    "plt.subplot(1, 2, 1)\n",
    "fraud_days.hist(bins=num_days,color=\"red\")\n",
    "plt.title('Fraud transactions by Day')\n",
    "plt.xlabel('Day of the Week')\n",
    "plt.ylabel(\"# of transactions\")\n",
    "\n",
    "plt.subplot(1,2,2)\n",
    "valid_days.hist(bins=num_days,color=\"green\")\n",
    "plt.title('Valid transactions by Day')\n",
    "plt.xlabel('Day of the Week')\n",
    "plt.ylabel(\"# of transactions\")\n",
    "\n",
    "plt.tight_layout()\n",
    "plt.show()"
   ]
  },
  {
   "cell_type": "markdown",
   "metadata": {},
   "source": [
    "The distribution of valid and fraud transaction in days didn't show much difference, this won't be added as a feature."
   ]
  },
  {
   "cell_type": "code",
   "execution_count": 36,
   "metadata": {
    "scrolled": true
   },
   "outputs": [
    {
     "data": {
      "image/png": "[encoded data removed]",
      "text/plain": [
       "<Figure size 432x288 with 2 Axes>"
      ]
     },
     "metadata": {},
     "output_type": "display_data"
    }
   ],
   "source": [
    "# plotting scatterplot of the hours of the week\n",
    "plt.subplot(1, 2, 1)\n",
    "fraud_hours.hist(bins=num_hours, color=\"red\")\n",
    "plt.title('Fraud transactions by Hour')\n",
    "plt.xlabel('Hour of the Day')\n",
    "plt.ylabel(\"# of transactions\")\n",
    "\n",
    "plt.subplot(1, 2, 2)\n",
    "valid_hours.hist(bins=num_hours, color=\"green\")\n",
    "plt.title('Valid transactions by Hour')\n",
    "plt.xlabel('Hour of the Day')\n",
    "plt.ylabel(\"# of transactions\")\n",
    "\n",
    "plt.tight_layout()\n",
    "plt.show()"
   ]
  },
  {
   "cell_type": "markdown",
   "metadata": {},
   "source": [
    "There is strong evidence that transaction in valid by hour occur rarely in between 0 - 9 hours. So this will be added as a feature to our model building"
   ]
  },
  {
   "cell_type": "code",
   "execution_count": 37,
   "metadata": {},
   "outputs": [
    {
     "data": {
      "text/html": [
       "<div>\n",
       "<style scoped>\n",
       "    .dataframe tbody tr th:only-of-type {\n",
       "        vertical-align: middle;\n",
       "    }\n",
       "\n",
       "    .dataframe tbody tr th {\n",
       "        vertical-align: top;\n",
       "    }\n",
       "\n",
       "    .dataframe thead th {\n",
       "        text-align: right;\n",
       "    }\n",
       "</style>\n",
       "<table border=\"1\" class=\"dataframe\">\n",
       "  <thead>\n",
       "    <tr style=\"text-align: right;\">\n",
       "      <th></th>\n",
       "      <th>step</th>\n",
       "      <th>type</th>\n",
       "      <th>amount</th>\n",
       "      <th>oldbalanceOrg</th>\n",
       "      <th>newbalanceOrig</th>\n",
       "      <th>oldbalanceDest</th>\n",
       "      <th>newbalanceDest</th>\n",
       "      <th>isFraud</th>\n",
       "      <th>errorBalanceOrg</th>\n",
       "      <th>errorBalanceDest</th>\n",
       "      <th>hourOfTheDay</th>\n",
       "    </tr>\n",
       "  </thead>\n",
       "  <tbody>\n",
       "    <tr>\n",
       "      <th>2</th>\n",
       "      <td>1</td>\n",
       "      <td>TRANSFER</td>\n",
       "      <td>181.00</td>\n",
       "      <td>181.0</td>\n",
       "      <td>0.0</td>\n",
       "      <td>0.0</td>\n",
       "      <td>0.00</td>\n",
       "      <td>1</td>\n",
       "      <td>0.00</td>\n",
       "      <td>181.0</td>\n",
       "      <td>1</td>\n",
       "    </tr>\n",
       "    <tr>\n",
       "      <th>3</th>\n",
       "      <td>1</td>\n",
       "      <td>CASH_OUT</td>\n",
       "      <td>181.00</td>\n",
       "      <td>181.0</td>\n",
       "      <td>0.0</td>\n",
       "      <td>21182.0</td>\n",
       "      <td>0.00</td>\n",
       "      <td>1</td>\n",
       "      <td>0.00</td>\n",
       "      <td>21363.0</td>\n",
       "      <td>1</td>\n",
       "    </tr>\n",
       "    <tr>\n",
       "      <th>15</th>\n",
       "      <td>1</td>\n",
       "      <td>CASH_OUT</td>\n",
       "      <td>229133.94</td>\n",
       "      <td>15325.0</td>\n",
       "      <td>0.0</td>\n",
       "      <td>5083.0</td>\n",
       "      <td>51513.44</td>\n",
       "      <td>0</td>\n",
       "      <td>213808.94</td>\n",
       "      <td>182703.5</td>\n",
       "      <td>1</td>\n",
       "    </tr>\n",
       "    <tr>\n",
       "      <th>19</th>\n",
       "      <td>1</td>\n",
       "      <td>TRANSFER</td>\n",
       "      <td>215310.30</td>\n",
       "      <td>705.0</td>\n",
       "      <td>0.0</td>\n",
       "      <td>22425.0</td>\n",
       "      <td>0.00</td>\n",
       "      <td>0</td>\n",
       "      <td>214605.30</td>\n",
       "      <td>237735.3</td>\n",
       "      <td>1</td>\n",
       "    </tr>\n",
       "    <tr>\n",
       "      <th>24</th>\n",
       "      <td>1</td>\n",
       "      <td>TRANSFER</td>\n",
       "      <td>311685.89</td>\n",
       "      <td>10835.0</td>\n",
       "      <td>0.0</td>\n",
       "      <td>6267.0</td>\n",
       "      <td>2719172.89</td>\n",
       "      <td>0</td>\n",
       "      <td>300850.89</td>\n",
       "      <td>-2401220.0</td>\n",
       "      <td>1</td>\n",
       "    </tr>\n",
       "  </tbody>\n",
       "</table>\n",
       "</div>"
      ],
      "text/plain": [
       "    step      type     amount  oldbalanceOrg  newbalanceOrig  oldbalanceDest  \\\n",
       "2      1  TRANSFER     181.00          181.0             0.0             0.0   \n",
       "3      1  CASH_OUT     181.00          181.0             0.0         21182.0   \n",
       "15     1  CASH_OUT  229133.94        15325.0             0.0          5083.0   \n",
       "19     1  TRANSFER  215310.30          705.0             0.0         22425.0   \n",
       "24     1  TRANSFER  311685.89        10835.0             0.0          6267.0   \n",
       "\n",
       "    newbalanceDest  isFraud  errorBalanceOrg  errorBalanceDest  hourOfTheDay  \n",
       "2             0.00        1             0.00             181.0             1  \n",
       "3             0.00        1             0.00           21363.0             1  \n",
       "15        51513.44        0        213808.94          182703.5             1  \n",
       "19            0.00        0        214605.30          237735.3             1  \n",
       "24      2719172.89        0        300850.89        -2401220.0             1  "
      ]
     },
     "execution_count": 37,
     "metadata": {},
     "output_type": "execute_result"
    }
   ],
   "source": [
    "dataset = df_new.copy(deep=True)\n",
    "# adding feature hourOfTheDay in dataset\n",
    "dataset[\"hourOfTheDay\"] = dataset[\"step\"] % 24\n",
    "dataset.head()"
   ]
  },
  {
   "cell_type": "code",
   "execution_count": 38,
   "metadata": {},
   "outputs": [
    {
     "data": {
      "image/png": "[encoded data removed]",
      "text/plain": [
       "<Figure size 720x576 with 2 Axes>"
      ]
     },
     "metadata": {},
     "output_type": "display_data"
    }
   ],
   "source": [
    "dataset_corr = dataset.corr()\n",
    "plt.figure(figsize=(10, 8))\n",
    "sns.heatmap(dataset_corr, annot=True, cmap='Accent')\n",
    "plt.show()"
   ]
  },
  {
   "cell_type": "markdown",
   "metadata": {},
   "source": [
    "## Model Building"
   ]
  },
  {
   "cell_type": "markdown",
   "metadata": {},
   "source": [
    "### Handling Categorical Variables\n",
    "\n",
    "1) We will be using get_dummies method on 'type' variable, since it is a categorical feature\n",
    "\n",
    "2) get_dummies method creating additional variable which are the values present in the categorical column\n",
    "\n",
    "3) The indicator associated with the variable will be 1 and if it isn't part of the particular category, then indicator variable associated with the variable will be 0."
   ]
  },
  {
   "cell_type": "code",
   "execution_count": 39,
   "metadata": {},
   "outputs": [
    {
     "data": {
      "text/html": [
       "<div>\n",
       "<style scoped>\n",
       "    .dataframe tbody tr th:only-of-type {\n",
       "        vertical-align: middle;\n",
       "    }\n",
       "\n",
       "    .dataframe tbody tr th {\n",
       "        vertical-align: top;\n",
       "    }\n",
       "\n",
       "    .dataframe thead th {\n",
       "        text-align: right;\n",
       "    }\n",
       "</style>\n",
       "<table border=\"1\" class=\"dataframe\">\n",
       "  <thead>\n",
       "    <tr style=\"text-align: right;\">\n",
       "      <th></th>\n",
       "      <th>step</th>\n",
       "      <th>amount</th>\n",
       "      <th>oldbalanceOrg</th>\n",
       "      <th>newbalanceOrig</th>\n",
       "      <th>oldbalanceDest</th>\n",
       "      <th>newbalanceDest</th>\n",
       "      <th>isFraud</th>\n",
       "      <th>errorBalanceOrg</th>\n",
       "      <th>errorBalanceDest</th>\n",
       "      <th>hourOfTheDay</th>\n",
       "      <th>type_CASH_OUT</th>\n",
       "      <th>type_TRANSFER</th>\n",
       "    </tr>\n",
       "  </thead>\n",
       "  <tbody>\n",
       "    <tr>\n",
       "      <th>2</th>\n",
       "      <td>1</td>\n",
       "      <td>181.00</td>\n",
       "      <td>181.0</td>\n",
       "      <td>0.0</td>\n",
       "      <td>0.0</td>\n",
       "      <td>0.00</td>\n",
       "      <td>1</td>\n",
       "      <td>0.00</td>\n",
       "      <td>181.0</td>\n",
       "      <td>1</td>\n",
       "      <td>0</td>\n",
       "      <td>1</td>\n",
       "    </tr>\n",
       "    <tr>\n",
       "      <th>3</th>\n",
       "      <td>1</td>\n",
       "      <td>181.00</td>\n",
       "      <td>181.0</td>\n",
       "      <td>0.0</td>\n",
       "      <td>21182.0</td>\n",
       "      <td>0.00</td>\n",
       "      <td>1</td>\n",
       "      <td>0.00</td>\n",
       "      <td>21363.0</td>\n",
       "      <td>1</td>\n",
       "      <td>1</td>\n",
       "      <td>0</td>\n",
       "    </tr>\n",
       "    <tr>\n",
       "      <th>15</th>\n",
       "      <td>1</td>\n",
       "      <td>229133.94</td>\n",
       "      <td>15325.0</td>\n",
       "      <td>0.0</td>\n",
       "      <td>5083.0</td>\n",
       "      <td>51513.44</td>\n",
       "      <td>0</td>\n",
       "      <td>213808.94</td>\n",
       "      <td>182703.5</td>\n",
       "      <td>1</td>\n",
       "      <td>1</td>\n",
       "      <td>0</td>\n",
       "    </tr>\n",
       "    <tr>\n",
       "      <th>19</th>\n",
       "      <td>1</td>\n",
       "      <td>215310.30</td>\n",
       "      <td>705.0</td>\n",
       "      <td>0.0</td>\n",
       "      <td>22425.0</td>\n",
       "      <td>0.00</td>\n",
       "      <td>0</td>\n",
       "      <td>214605.30</td>\n",
       "      <td>237735.3</td>\n",
       "      <td>1</td>\n",
       "      <td>0</td>\n",
       "      <td>1</td>\n",
       "    </tr>\n",
       "    <tr>\n",
       "      <th>24</th>\n",
       "      <td>1</td>\n",
       "      <td>311685.89</td>\n",
       "      <td>10835.0</td>\n",
       "      <td>0.0</td>\n",
       "      <td>6267.0</td>\n",
       "      <td>2719172.89</td>\n",
       "      <td>0</td>\n",
       "      <td>300850.89</td>\n",
       "      <td>-2401220.0</td>\n",
       "      <td>1</td>\n",
       "      <td>0</td>\n",
       "      <td>1</td>\n",
       "    </tr>\n",
       "  </tbody>\n",
       "</table>\n",
       "</div>"
      ],
      "text/plain": [
       "    step     amount  oldbalanceOrg  newbalanceOrig  oldbalanceDest  \\\n",
       "2      1     181.00          181.0             0.0             0.0   \n",
       "3      1     181.00          181.0             0.0         21182.0   \n",
       "15     1  229133.94        15325.0             0.0          5083.0   \n",
       "19     1  215310.30          705.0             0.0         22425.0   \n",
       "24     1  311685.89        10835.0             0.0          6267.0   \n",
       "\n",
       "    newbalanceDest  isFraud  errorBalanceOrg  errorBalanceDest  hourOfTheDay  \\\n",
       "2             0.00        1             0.00             181.0             1   \n",
       "3             0.00        1             0.00           21363.0             1   \n",
       "15        51513.44        0        213808.94          182703.5             1   \n",
       "19            0.00        0        214605.30          237735.3             1   \n",
       "24      2719172.89        0        300850.89        -2401220.0             1   \n",
       "\n",
       "    type_CASH_OUT  type_TRANSFER  \n",
       "2               0              1  \n",
       "3               1              0  \n",
       "15              1              0  \n",
       "19              0              1  \n",
       "24              0              1  "
      ]
     },
     "execution_count": 39,
     "metadata": {},
     "output_type": "execute_result"
    }
   ],
   "source": [
    "dataset = pd.get_dummies(dataset, prefix='type')\n",
    "\n",
    "dataset.head()"
   ]
  },
  {
   "cell_type": "code",
   "execution_count": 40,
   "metadata": {},
   "outputs": [
    {
     "name": "stdout",
     "output_type": "stream",
     "text": [
      "<class 'pandas.core.frame.DataFrame'>\n",
      "Int64Index: 2770409 entries, 2 to 6362619\n",
      "Data columns (total 12 columns):\n",
      " #   Column            Dtype  \n",
      "---  ------            -----  \n",
      " 0   step              int64  \n",
      " 1   amount            float64\n",
      " 2   oldbalanceOrg     float64\n",
      " 3   newbalanceOrig    float64\n",
      " 4   oldbalanceDest    float64\n",
      " 5   newbalanceDest    float64\n",
      " 6   isFraud           int64  \n",
      " 7   errorBalanceOrg   float64\n",
      " 8   errorBalanceDest  float64\n",
      " 9   hourOfTheDay      int64  \n",
      " 10  type_CASH_OUT     uint8  \n",
      " 11  type_TRANSFER     uint8  \n",
      "dtypes: float64(7), int64(3), uint8(2)\n",
      "memory usage: 237.8 MB\n"
     ]
    }
   ],
   "source": [
    "dataset.info()"
   ]
  },
  {
   "cell_type": "markdown",
   "metadata": {},
   "source": [
    "### Splitting into Train and Test dataset"
   ]
  },
  {
   "cell_type": "code",
   "execution_count": 41,
   "metadata": {},
   "outputs": [],
   "source": [
    "X_ind = dataset.drop('isFraud', axis=1) #independent data\n",
    "\n",
    "y_dep = dataset['isFraud'] # dependent data\n",
    "\n",
    "#train test split\n",
    "X_train, X_test, y_train, y_test = train_test_split(X_ind, y_dep, test_size=0.2, random_state=2)\n",
    "\n",
    "#Scaling all the independent variables in to 0 - 1\n",
    "scaler = StandardScaler()\n",
    "\n",
    "#fit and transform the data\n",
    "X_train = scaler.fit_transform(X_train)\n",
    "X_test = scaler.fit_transform(X_test)"
   ]
  },
  {
   "cell_type": "code",
   "execution_count": 42,
   "metadata": {},
   "outputs": [
    {
     "data": {
      "text/html": [
       "<pre style=\"white-space:pre;overflow-x:auto;line-height:normal;font-family:Menlo,'DejaVu Sans Mono',consolas,'Courier New',monospace\"><span style=\"color: #808080; text-decoration-color: #808080; font-weight: bold\">Shape of X_train: (</span><span style=\"color: #008080; text-decoration-color: #008080; font-weight: bold\">2216327</span><span style=\"color: #808080; text-decoration-color: #808080; font-weight: bold\">, </span><span style=\"color: #008080; text-decoration-color: #008080; font-weight: bold\">11</span><span style=\"color: #808080; text-decoration-color: #808080; font-weight: bold\">)</span>\n",
       "</pre>\n"
      ],
      "text/plain": [
       "\u001b[1;90mShape of X_train: \u001b[0m\u001b[1;90m(\u001b[0m\u001b[1;36m2216327\u001b[0m\u001b[1;90m, \u001b[0m\u001b[1;36m11\u001b[0m\u001b[1;90m)\u001b[0m\n"
      ]
     },
     "metadata": {},
     "output_type": "display_data"
    },
    {
     "data": {
      "text/html": [
       "<pre style=\"white-space:pre;overflow-x:auto;line-height:normal;font-family:Menlo,'DejaVu Sans Mono',consolas,'Courier New',monospace\"><span style=\"color: #808080; text-decoration-color: #808080; font-weight: bold\">Shape of X_test: (</span><span style=\"color: #008080; text-decoration-color: #008080; font-weight: bold\">554082</span><span style=\"color: #808080; text-decoration-color: #808080; font-weight: bold\">, </span><span style=\"color: #008080; text-decoration-color: #008080; font-weight: bold\">11</span><span style=\"color: #808080; text-decoration-color: #808080; font-weight: bold\">)</span>\n",
       "</pre>\n"
      ],
      "text/plain": [
       "\u001b[1;90mShape of X_test: \u001b[0m\u001b[1;90m(\u001b[0m\u001b[1;36m554082\u001b[0m\u001b[1;90m, \u001b[0m\u001b[1;36m11\u001b[0m\u001b[1;90m)\u001b[0m\n"
      ]
     },
     "metadata": {},
     "output_type": "display_data"
    }
   ],
   "source": [
    "console.print(f\"Shape of X_train: { X_train.shape}\", style=\"bold bright_black\")\n",
    "console.print(f\"Shape of X_test: {X_test.shape}\", style=\"bold bright_black\")"
   ]
  },
  {
   "cell_type": "markdown",
   "metadata": {},
   "source": [
    "## Model Selection\n",
    "\n",
    "Consider the nature of our dataset in which the number of fraud and valid transaction is extremely skewed, we need to balance the dataset. First we will try out be using the imbalanced dataset for model building. For model buidling we will be using Random Forest and then we will balance the dataset and repeat the same training process."
   ]
  },
  {
   "cell_type": "markdown",
   "metadata": {},
   "source": [
    "### Random Forest Model (Imbalanced dataset)"
   ]
  },
  {
   "cell_type": "code",
   "execution_count": 43,
   "metadata": {},
   "outputs": [],
   "source": [
    "# Train model\n",
    "parametersRF = {'n_estimators':15,'class_weight': \"balanced\",'n_jobs':-1,'random_state':2}\n",
    "RF_IbD = RandomForestClassifier(**parametersRF)\n",
    "RF_IbD.fit(X_train, y_train)\n",
    "\n",
    "#Prediction\n",
    "predictionRF_IbD = RF_IbD.predict(X_test)\n",
    "\n",
    "#Key performance Indicators\n",
    "CM_RF_IbD = confusion_matrix(y_test, predictionRF_IbD)\n",
    "CR_RF_IbD = classification_report(y_test, predictionRF_IbD)\n",
    "fprRF_IbD, recallRF_IbD, thresholdsRF_IbD = roc_curve(y_test, predictionRF_IbD)\n",
    "AUC_RF_IbD = auc(fprRF_IbD, recallRF_IbD)"
   ]
  },
  {
   "cell_type": "code",
   "execution_count": 44,
   "metadata": {},
   "outputs": [
    {
     "data": {
      "text/html": [
       "<pre style=\"white-space:pre;overflow-x:auto;line-height:normal;font-family:Menlo,'DejaVu Sans Mono',consolas,'Courier New',monospace\"><span style=\"color: #000000; text-decoration-color: #000000; font-weight: bold; text-decoration: underline\">Random Forest using Imbalanced Dataset</span>\n",
       "</pre>\n"
      ],
      "text/plain": [
       "\u001b[1;4;30mRandom Forest using Imbalanced Dataset\u001b[0m\n"
      ]
     },
     "metadata": {},
     "output_type": "display_data"
    },
    {
     "name": "stdout",
     "output_type": "stream",
     "text": [
      "\n"
     ]
    },
    {
     "data": {
      "text/html": [
       "<pre style=\"white-space:pre;overflow-x:auto;line-height:normal;font-family:Menlo,'DejaVu Sans Mono',consolas,'Courier New',monospace\"><span style=\"color: #000000; text-decoration-color: #000000; font-weight: bold\">Confusion Matrix:</span>\n",
       "</pre>\n"
      ],
      "text/plain": [
       "\u001b[1;30mConfusion Matrix:\u001b[0m\n"
      ]
     },
     "metadata": {},
     "output_type": "display_data"
    },
    {
     "data": {
      "text/html": [
       "<pre style=\"white-space:pre;overflow-x:auto;line-height:normal;font-family:Menlo,'DejaVu Sans Mono',consolas,'Courier New',monospace\"><span style=\"color: #808080; text-decoration-color: #808080; font-weight: bold\">[[</span><span style=\"color: #008080; text-decoration-color: #008080; font-weight: bold\">548650</span><span style=\"color: #808080; text-decoration-color: #808080; font-weight: bold\">   </span><span style=\"color: #008080; text-decoration-color: #008080; font-weight: bold\">3810</span><span style=\"color: #808080; text-decoration-color: #808080; font-weight: bold\">]</span>\n",
       "<span style=\"color: #808080; text-decoration-color: #808080; font-weight: bold\"> [   </span><span style=\"color: #008080; text-decoration-color: #008080; font-weight: bold\">501</span><span style=\"color: #808080; text-decoration-color: #808080; font-weight: bold\">   </span><span style=\"color: #008080; text-decoration-color: #008080; font-weight: bold\">1121</span><span style=\"color: #808080; text-decoration-color: #808080; font-weight: bold\">]]</span>\n",
       "</pre>\n"
      ],
      "text/plain": [
       "\u001b[1;90m[\u001b[0m\u001b[1;90m[\u001b[0m\u001b[1;36m548650\u001b[0m\u001b[1;90m   \u001b[0m\u001b[1;36m3810\u001b[0m\u001b[1;90m]\u001b[0m\n",
       "\u001b[1;90m \u001b[0m\u001b[1;90m[\u001b[0m\u001b[1;90m   \u001b[0m\u001b[1;36m501\u001b[0m\u001b[1;90m   \u001b[0m\u001b[1;36m1121\u001b[0m\u001b[1;90m]\u001b[0m\u001b[1;90m]\u001b[0m\n"
      ]
     },
     "metadata": {},
     "output_type": "display_data"
    },
    {
     "name": "stdout",
     "output_type": "stream",
     "text": [
      "\n"
     ]
    },
    {
     "data": {
      "text/html": [
       "<pre style=\"white-space:pre;overflow-x:auto;line-height:normal;font-family:Menlo,'DejaVu Sans Mono',consolas,'Courier New',monospace\"><span style=\"color: #000000; text-decoration-color: #000000; font-weight: bold\">Classification Report:</span>\n",
       "</pre>\n"
      ],
      "text/plain": [
       "\u001b[1;30mClassification Report:\u001b[0m\n"
      ]
     },
     "metadata": {},
     "output_type": "display_data"
    },
    {
     "data": {
      "text/html": [
       "<pre style=\"white-space:pre;overflow-x:auto;line-height:normal;font-family:Menlo,'DejaVu Sans Mono',consolas,'Courier New',monospace\"><span style=\"color: #808080; text-decoration-color: #808080; font-weight: bold\">              precision    recall  f1-score   support</span>\n",
       "\n",
       "<span style=\"color: #808080; text-decoration-color: #808080; font-weight: bold\">           </span><span style=\"color: #008080; text-decoration-color: #008080; font-weight: bold\">0</span><span style=\"color: #808080; text-decoration-color: #808080; font-weight: bold\">       </span><span style=\"color: #008080; text-decoration-color: #008080; font-weight: bold\">1.00</span><span style=\"color: #808080; text-decoration-color: #808080; font-weight: bold\">      </span><span style=\"color: #008080; text-decoration-color: #008080; font-weight: bold\">0.99</span><span style=\"color: #808080; text-decoration-color: #808080; font-weight: bold\">      </span><span style=\"color: #008080; text-decoration-color: #008080; font-weight: bold\">1.00</span><span style=\"color: #808080; text-decoration-color: #808080; font-weight: bold\">    </span><span style=\"color: #008080; text-decoration-color: #008080; font-weight: bold\">552460</span>\n",
       "<span style=\"color: #808080; text-decoration-color: #808080; font-weight: bold\">           </span><span style=\"color: #008080; text-decoration-color: #008080; font-weight: bold\">1</span><span style=\"color: #808080; text-decoration-color: #808080; font-weight: bold\">       </span><span style=\"color: #008080; text-decoration-color: #008080; font-weight: bold\">0.23</span><span style=\"color: #808080; text-decoration-color: #808080; font-weight: bold\">      </span><span style=\"color: #008080; text-decoration-color: #008080; font-weight: bold\">0.69</span><span style=\"color: #808080; text-decoration-color: #808080; font-weight: bold\">      </span><span style=\"color: #008080; text-decoration-color: #008080; font-weight: bold\">0.34</span><span style=\"color: #808080; text-decoration-color: #808080; font-weight: bold\">      </span><span style=\"color: #008080; text-decoration-color: #008080; font-weight: bold\">1622</span>\n",
       "\n",
       "<span style=\"color: #808080; text-decoration-color: #808080; font-weight: bold\">    accuracy                           </span><span style=\"color: #008080; text-decoration-color: #008080; font-weight: bold\">0.99</span><span style=\"color: #808080; text-decoration-color: #808080; font-weight: bold\">    </span><span style=\"color: #008080; text-decoration-color: #008080; font-weight: bold\">554082</span>\n",
       "<span style=\"color: #808080; text-decoration-color: #808080; font-weight: bold\">   macro avg       </span><span style=\"color: #008080; text-decoration-color: #008080; font-weight: bold\">0.61</span><span style=\"color: #808080; text-decoration-color: #808080; font-weight: bold\">      </span><span style=\"color: #008080; text-decoration-color: #008080; font-weight: bold\">0.84</span><span style=\"color: #808080; text-decoration-color: #808080; font-weight: bold\">      </span><span style=\"color: #008080; text-decoration-color: #008080; font-weight: bold\">0.67</span><span style=\"color: #808080; text-decoration-color: #808080; font-weight: bold\">    </span><span style=\"color: #008080; text-decoration-color: #008080; font-weight: bold\">554082</span>\n",
       "<span style=\"color: #808080; text-decoration-color: #808080; font-weight: bold\">weighted avg       </span><span style=\"color: #008080; text-decoration-color: #008080; font-weight: bold\">1.00</span><span style=\"color: #808080; text-decoration-color: #808080; font-weight: bold\">      </span><span style=\"color: #008080; text-decoration-color: #008080; font-weight: bold\">0.99</span><span style=\"color: #808080; text-decoration-color: #808080; font-weight: bold\">      </span><span style=\"color: #008080; text-decoration-color: #008080; font-weight: bold\">0.99</span><span style=\"color: #808080; text-decoration-color: #808080; font-weight: bold\">    </span><span style=\"color: #008080; text-decoration-color: #008080; font-weight: bold\">554082</span>\n",
       "\n",
       "</pre>\n"
      ],
      "text/plain": [
       "\u001b[1;90m              precision    recall  f1-score   support\u001b[0m\n",
       "\n",
       "\u001b[1;90m           \u001b[0m\u001b[1;36m0\u001b[0m\u001b[1;90m       \u001b[0m\u001b[1;36m1.00\u001b[0m\u001b[1;90m      \u001b[0m\u001b[1;36m0.99\u001b[0m\u001b[1;90m      \u001b[0m\u001b[1;36m1.00\u001b[0m\u001b[1;90m    \u001b[0m\u001b[1;36m552460\u001b[0m\n",
       "\u001b[1;90m           \u001b[0m\u001b[1;36m1\u001b[0m\u001b[1;90m       \u001b[0m\u001b[1;36m0.23\u001b[0m\u001b[1;90m      \u001b[0m\u001b[1;36m0.69\u001b[0m\u001b[1;90m      \u001b[0m\u001b[1;36m0.34\u001b[0m\u001b[1;90m      \u001b[0m\u001b[1;36m1622\u001b[0m\n",
       "\n",
       "\u001b[1;90m    accuracy                           \u001b[0m\u001b[1;36m0.99\u001b[0m\u001b[1;90m    \u001b[0m\u001b[1;36m554082\u001b[0m\n",
       "\u001b[1;90m   macro avg       \u001b[0m\u001b[1;36m0.61\u001b[0m\u001b[1;90m      \u001b[0m\u001b[1;36m0.84\u001b[0m\u001b[1;90m      \u001b[0m\u001b[1;36m0.67\u001b[0m\u001b[1;90m    \u001b[0m\u001b[1;36m554082\u001b[0m\n",
       "\u001b[1;90mweighted avg       \u001b[0m\u001b[1;36m1.00\u001b[0m\u001b[1;90m      \u001b[0m\u001b[1;36m0.99\u001b[0m\u001b[1;90m      \u001b[0m\u001b[1;36m0.99\u001b[0m\u001b[1;90m    \u001b[0m\u001b[1;36m554082\u001b[0m\n",
       "\n"
      ]
     },
     "metadata": {},
     "output_type": "display_data"
    },
    {
     "name": "stdout",
     "output_type": "stream",
     "text": [
      "\n"
     ]
    },
    {
     "data": {
      "text/html": [
       "<pre style=\"white-space:pre;overflow-x:auto;line-height:normal;font-family:Menlo,'DejaVu Sans Mono',consolas,'Courier New',monospace\"><span style=\"color: #000000; text-decoration-color: #000000; font-weight: bold\">Area Under Curve: </span><span style=\"color: #008080; text-decoration-color: #008080; font-weight: bold\">0.8421128223130057</span>\n",
       "</pre>\n"
      ],
      "text/plain": [
       "\u001b[1;30mArea Under Curve: \u001b[0m\u001b[1;36m0.8421128223130057\u001b[0m\n"
      ]
     },
     "metadata": {},
     "output_type": "display_data"
    }
   ],
   "source": [
    "def show_KPI(ConfMatrix, ClassReport, AreaUC, model):\n",
    "    console.print(model, style='bold underline black')\n",
    "    print()\n",
    "    console.print('Confusion Matrix:', style='bold black')\n",
    "    console.print(ConfMatrix, style='bold bright_black')\n",
    "    print()\n",
    "    console.print('Classification Report:', style='bold black')\n",
    "    console.print(ClassReport, style='bold bright_black')\n",
    "    print()\n",
    "    console.print(f\"Area Under Curve: {AreaUC}\", style='bold black')\n",
    "\n",
    "\n",
    "show_KPI(CM_RF_IbD, CR_RF_IbD, AUC_RF_IbD, 'Random Forest using Imbalanced Dataset')"
   ]
  },
  {
   "cell_type": "markdown",
   "metadata": {},
   "source": [
    "### Handling Balanced Data"
   ]
  },
  {
   "cell_type": "code",
   "execution_count": 45,
   "metadata": {},
   "outputs": [
    {
     "data": {
      "text/html": [
       "<pre style=\"white-space:pre;overflow-x:auto;line-height:normal;font-family:Menlo,'DejaVu Sans Mono',consolas,'Courier New',monospace\"><span style=\"color: #808080; text-decoration-color: #808080; font-weight: bold\">Resampled shape of X_ind:</span>\n",
       "<span style=\"color: #808080; text-decoration-color: #808080; font-weight: bold\">(</span><span style=\"color: #008080; text-decoration-color: #008080; font-weight: bold\">16426</span><span style=\"color: #808080; text-decoration-color: #808080; font-weight: bold\">, </span><span style=\"color: #008080; text-decoration-color: #008080; font-weight: bold\">11</span><span style=\"color: #808080; text-decoration-color: #808080; font-weight: bold\">)</span>\n",
       "</pre>\n"
      ],
      "text/plain": [
       "\u001b[1;90mResampled shape of X_ind:\u001b[0m\n",
       "\u001b[1;90m(\u001b[0m\u001b[1;36m16426\u001b[0m\u001b[1;90m, \u001b[0m\u001b[1;36m11\u001b[0m\u001b[1;90m)\u001b[0m\n"
      ]
     },
     "metadata": {},
     "output_type": "display_data"
    },
    {
     "data": {
      "text/html": [
       "<pre style=\"white-space:pre;overflow-x:auto;line-height:normal;font-family:Menlo,'DejaVu Sans Mono',consolas,'Courier New',monospace\"><span style=\"color: #808080; text-decoration-color: #808080; font-weight: bold\">Resampled shape of y_dep:</span>\n",
       "<span style=\"color: #808080; text-decoration-color: #808080; font-weight: bold\">(</span><span style=\"color: #008080; text-decoration-color: #008080; font-weight: bold\">16426</span><span style=\"color: #808080; text-decoration-color: #808080; font-weight: bold\">,)</span>\n",
       "</pre>\n"
      ],
      "text/plain": [
       "\u001b[1;90mResampled shape of y_dep:\u001b[0m\n",
       "\u001b[1;90m(\u001b[0m\u001b[1;36m16426\u001b[0m\u001b[1;90m,\u001b[0m\u001b[1;90m)\u001b[0m\n"
      ]
     },
     "metadata": {},
     "output_type": "display_data"
    },
    {
     "data": {
      "text/html": [
       "<pre style=\"white-space:pre;overflow-x:auto;line-height:normal;font-family:Menlo,'DejaVu Sans Mono',consolas,'Courier New',monospace\"><span style=\"color: #808080; text-decoration-color: #808080; font-weight: bold\">Count of valid and fraudulent transaction:</span>\n",
       "<span style=\"color: #800080; text-decoration-color: #800080; font-weight: bold\">Counter</span><span style=\"color: #808080; text-decoration-color: #808080; font-weight: bold\">({</span><span style=\"color: #008080; text-decoration-color: #008080; font-weight: bold\">0</span><span style=\"color: #808080; text-decoration-color: #808080; font-weight: bold\">: </span><span style=\"color: #008080; text-decoration-color: #008080; font-weight: bold\">8213</span><span style=\"color: #808080; text-decoration-color: #808080; font-weight: bold\">, </span><span style=\"color: #008080; text-decoration-color: #008080; font-weight: bold\">1</span><span style=\"color: #808080; text-decoration-color: #808080; font-weight: bold\">: </span><span style=\"color: #008080; text-decoration-color: #008080; font-weight: bold\">8213</span><span style=\"color: #808080; text-decoration-color: #808080; font-weight: bold\">})</span>\n",
       "</pre>\n"
      ],
      "text/plain": [
       "\u001b[1;90mCount of valid and fraudulent transaction:\u001b[0m\n",
       "\u001b[1;35mCounter\u001b[0m\u001b[1;90m(\u001b[0m\u001b[1;90m{\u001b[0m\u001b[1;36m0\u001b[0m\u001b[1;90m: \u001b[0m\u001b[1;36m8213\u001b[0m\u001b[1;90m, \u001b[0m\u001b[1;36m1\u001b[0m\u001b[1;90m: \u001b[0m\u001b[1;36m8213\u001b[0m\u001b[1;90m}\u001b[0m\u001b[1;90m)\u001b[0m\n"
      ]
     },
     "metadata": {},
     "output_type": "display_data"
    }
   ],
   "source": [
    "RUS = RandomUnderSampler(random_state=2)\n",
    "\n",
    "X_resampled, y_resampled = RUS.fit_resample(X_ind, y_dep)\n",
    "console.print('Resampled shape of X_ind:', X_resampled.shape, style='bold bright_black')\n",
    "console.print('Resampled shape of y_dep:', y_resampled.shape, style='bold bright_black')\n",
    "\n",
    "value_counts = Counter(y_resampled)\n",
    "console.print('Count of valid and fraudulent transaction:', value_counts, style='bold bright_black')\n",
    "\n",
    "X_train, X_test, y_train, y_test = train_test_split(X_resampled, y_resampled, train_size=0.8, random_state=2)\n",
    "\n",
    "#Scaling all the independent variables in to 0 - 1\n",
    "scaler = StandardScaler()\n",
    "\n",
    "#fit and transform the data\n",
    "X_train = scaler.fit_transform(X_train)\n",
    "X_test = scaler.fit_transform(X_test)"
   ]
  },
  {
   "cell_type": "markdown",
   "metadata": {},
   "source": [
    "### Random Forest Model (Balanced dataset)"
   ]
  },
  {
   "cell_type": "code",
   "execution_count": 46,
   "metadata": {},
   "outputs": [],
   "source": [
    "# Train model\n",
    "parametersRF = {'n_estimators':15,'class_weight': \"balanced\",'n_jobs':-1,'random_state':2}\n",
    "RF_BD = RandomForestClassifier(**parametersRF)\n",
    "RF_BD.fit(X_train, y_train)\n",
    "\n",
    "#Prediction\n",
    "predictionRF_BD = RF_BD.predict(X_test)\n",
    "\n",
    "#Key performance Indicators\n",
    "CM_RF_BD = confusion_matrix(y_test, predictionRF_BD)\n",
    "CR_RF_BD = classification_report(y_test, predictionRF_BD)\n",
    "fprRF_BD, recallRF_BD, thresholdsRF_BD = roc_curve(y_test, predictionRF_BD)\n",
    "AUC_RF_BD = auc(fprRF_BD, recallRF_BD)\n"
   ]
  },
  {
   "cell_type": "code",
   "execution_count": 47,
   "metadata": {},
   "outputs": [
    {
     "data": {
      "text/html": [
       "<pre style=\"white-space:pre;overflow-x:auto;line-height:normal;font-family:Menlo,'DejaVu Sans Mono',consolas,'Courier New',monospace\"><span style=\"color: #000000; text-decoration-color: #000000; font-weight: bold; text-decoration: underline\">Random Forest using Balanced Dataset</span>\n",
       "</pre>\n"
      ],
      "text/plain": [
       "\u001b[1;4;30mRandom Forest using Balanced Dataset\u001b[0m\n"
      ]
     },
     "metadata": {},
     "output_type": "display_data"
    },
    {
     "name": "stdout",
     "output_type": "stream",
     "text": [
      "\n"
     ]
    },
    {
     "data": {
      "text/html": [
       "<pre style=\"white-space:pre;overflow-x:auto;line-height:normal;font-family:Menlo,'DejaVu Sans Mono',consolas,'Courier New',monospace\"><span style=\"color: #000000; text-decoration-color: #000000; font-weight: bold\">Confusion Matrix:</span>\n",
       "</pre>\n"
      ],
      "text/plain": [
       "\u001b[1;30mConfusion Matrix:\u001b[0m\n"
      ]
     },
     "metadata": {},
     "output_type": "display_data"
    },
    {
     "data": {
      "text/html": [
       "<pre style=\"white-space:pre;overflow-x:auto;line-height:normal;font-family:Menlo,'DejaVu Sans Mono',consolas,'Courier New',monospace\"><span style=\"color: #808080; text-decoration-color: #808080; font-weight: bold\">[[</span><span style=\"color: #008080; text-decoration-color: #008080; font-weight: bold\">1370</span><span style=\"color: #808080; text-decoration-color: #808080; font-weight: bold\">  </span><span style=\"color: #008080; text-decoration-color: #008080; font-weight: bold\">261</span><span style=\"color: #808080; text-decoration-color: #808080; font-weight: bold\">]</span>\n",
       "<span style=\"color: #808080; text-decoration-color: #808080; font-weight: bold\"> [   </span><span style=\"color: #008080; text-decoration-color: #008080; font-weight: bold\">5</span><span style=\"color: #808080; text-decoration-color: #808080; font-weight: bold\"> </span><span style=\"color: #008080; text-decoration-color: #008080; font-weight: bold\">1650</span><span style=\"color: #808080; text-decoration-color: #808080; font-weight: bold\">]]</span>\n",
       "</pre>\n"
      ],
      "text/plain": [
       "\u001b[1;90m[\u001b[0m\u001b[1;90m[\u001b[0m\u001b[1;36m1370\u001b[0m\u001b[1;90m  \u001b[0m\u001b[1;36m261\u001b[0m\u001b[1;90m]\u001b[0m\n",
       "\u001b[1;90m \u001b[0m\u001b[1;90m[\u001b[0m\u001b[1;90m   \u001b[0m\u001b[1;36m5\u001b[0m\u001b[1;90m \u001b[0m\u001b[1;36m1650\u001b[0m\u001b[1;90m]\u001b[0m\u001b[1;90m]\u001b[0m\n"
      ]
     },
     "metadata": {},
     "output_type": "display_data"
    },
    {
     "name": "stdout",
     "output_type": "stream",
     "text": [
      "\n"
     ]
    },
    {
     "data": {
      "text/html": [
       "<pre style=\"white-space:pre;overflow-x:auto;line-height:normal;font-family:Menlo,'DejaVu Sans Mono',consolas,'Courier New',monospace\"><span style=\"color: #000000; text-decoration-color: #000000; font-weight: bold\">Classification Report:</span>\n",
       "</pre>\n"
      ],
      "text/plain": [
       "\u001b[1;30mClassification Report:\u001b[0m\n"
      ]
     },
     "metadata": {},
     "output_type": "display_data"
    },
    {
     "data": {
      "text/html": [
       "<pre style=\"white-space:pre;overflow-x:auto;line-height:normal;font-family:Menlo,'DejaVu Sans Mono',consolas,'Courier New',monospace\"><span style=\"color: #808080; text-decoration-color: #808080; font-weight: bold\">              precision    recall  f1-score   support</span>\n",
       "\n",
       "<span style=\"color: #808080; text-decoration-color: #808080; font-weight: bold\">           </span><span style=\"color: #008080; text-decoration-color: #008080; font-weight: bold\">0</span><span style=\"color: #808080; text-decoration-color: #808080; font-weight: bold\">       </span><span style=\"color: #008080; text-decoration-color: #008080; font-weight: bold\">1.00</span><span style=\"color: #808080; text-decoration-color: #808080; font-weight: bold\">      </span><span style=\"color: #008080; text-decoration-color: #008080; font-weight: bold\">0.84</span><span style=\"color: #808080; text-decoration-color: #808080; font-weight: bold\">      </span><span style=\"color: #008080; text-decoration-color: #008080; font-weight: bold\">0.91</span><span style=\"color: #808080; text-decoration-color: #808080; font-weight: bold\">      </span><span style=\"color: #008080; text-decoration-color: #008080; font-weight: bold\">1631</span>\n",
       "<span style=\"color: #808080; text-decoration-color: #808080; font-weight: bold\">           </span><span style=\"color: #008080; text-decoration-color: #008080; font-weight: bold\">1</span><span style=\"color: #808080; text-decoration-color: #808080; font-weight: bold\">       </span><span style=\"color: #008080; text-decoration-color: #008080; font-weight: bold\">0.86</span><span style=\"color: #808080; text-decoration-color: #808080; font-weight: bold\">      </span><span style=\"color: #008080; text-decoration-color: #008080; font-weight: bold\">1.00</span><span style=\"color: #808080; text-decoration-color: #808080; font-weight: bold\">      </span><span style=\"color: #008080; text-decoration-color: #008080; font-weight: bold\">0.93</span><span style=\"color: #808080; text-decoration-color: #808080; font-weight: bold\">      </span><span style=\"color: #008080; text-decoration-color: #008080; font-weight: bold\">1655</span>\n",
       "\n",
       "<span style=\"color: #808080; text-decoration-color: #808080; font-weight: bold\">    accuracy                           </span><span style=\"color: #008080; text-decoration-color: #008080; font-weight: bold\">0.92</span><span style=\"color: #808080; text-decoration-color: #808080; font-weight: bold\">      </span><span style=\"color: #008080; text-decoration-color: #008080; font-weight: bold\">3286</span>\n",
       "<span style=\"color: #808080; text-decoration-color: #808080; font-weight: bold\">   macro avg       </span><span style=\"color: #008080; text-decoration-color: #008080; font-weight: bold\">0.93</span><span style=\"color: #808080; text-decoration-color: #808080; font-weight: bold\">      </span><span style=\"color: #008080; text-decoration-color: #008080; font-weight: bold\">0.92</span><span style=\"color: #808080; text-decoration-color: #808080; font-weight: bold\">      </span><span style=\"color: #008080; text-decoration-color: #008080; font-weight: bold\">0.92</span><span style=\"color: #808080; text-decoration-color: #808080; font-weight: bold\">      </span><span style=\"color: #008080; text-decoration-color: #008080; font-weight: bold\">3286</span>\n",
       "<span style=\"color: #808080; text-decoration-color: #808080; font-weight: bold\">weighted avg       </span><span style=\"color: #008080; text-decoration-color: #008080; font-weight: bold\">0.93</span><span style=\"color: #808080; text-decoration-color: #808080; font-weight: bold\">      </span><span style=\"color: #008080; text-decoration-color: #008080; font-weight: bold\">0.92</span><span style=\"color: #808080; text-decoration-color: #808080; font-weight: bold\">      </span><span style=\"color: #008080; text-decoration-color: #008080; font-weight: bold\">0.92</span><span style=\"color: #808080; text-decoration-color: #808080; font-weight: bold\">      </span><span style=\"color: #008080; text-decoration-color: #008080; font-weight: bold\">3286</span>\n",
       "\n",
       "</pre>\n"
      ],
      "text/plain": [
       "\u001b[1;90m              precision    recall  f1-score   support\u001b[0m\n",
       "\n",
       "\u001b[1;90m           \u001b[0m\u001b[1;36m0\u001b[0m\u001b[1;90m       \u001b[0m\u001b[1;36m1.00\u001b[0m\u001b[1;90m      \u001b[0m\u001b[1;36m0.84\u001b[0m\u001b[1;90m      \u001b[0m\u001b[1;36m0.91\u001b[0m\u001b[1;90m      \u001b[0m\u001b[1;36m1631\u001b[0m\n",
       "\u001b[1;90m           \u001b[0m\u001b[1;36m1\u001b[0m\u001b[1;90m       \u001b[0m\u001b[1;36m0.86\u001b[0m\u001b[1;90m      \u001b[0m\u001b[1;36m1.00\u001b[0m\u001b[1;90m      \u001b[0m\u001b[1;36m0.93\u001b[0m\u001b[1;90m      \u001b[0m\u001b[1;36m1655\u001b[0m\n",
       "\n",
       "\u001b[1;90m    accuracy                           \u001b[0m\u001b[1;36m0.92\u001b[0m\u001b[1;90m      \u001b[0m\u001b[1;36m3286\u001b[0m\n",
       "\u001b[1;90m   macro avg       \u001b[0m\u001b[1;36m0.93\u001b[0m\u001b[1;90m      \u001b[0m\u001b[1;36m0.92\u001b[0m\u001b[1;90m      \u001b[0m\u001b[1;36m0.92\u001b[0m\u001b[1;90m      \u001b[0m\u001b[1;36m3286\u001b[0m\n",
       "\u001b[1;90mweighted avg       \u001b[0m\u001b[1;36m0.93\u001b[0m\u001b[1;90m      \u001b[0m\u001b[1;36m0.92\u001b[0m\u001b[1;90m      \u001b[0m\u001b[1;36m0.92\u001b[0m\u001b[1;90m      \u001b[0m\u001b[1;36m3286\u001b[0m\n",
       "\n"
      ]
     },
     "metadata": {},
     "output_type": "display_data"
    },
    {
     "name": "stdout",
     "output_type": "stream",
     "text": [
      "\n"
     ]
    },
    {
     "data": {
      "text/html": [
       "<pre style=\"white-space:pre;overflow-x:auto;line-height:normal;font-family:Menlo,'DejaVu Sans Mono',consolas,'Courier New',monospace\"><span style=\"color: #000000; text-decoration-color: #000000; font-weight: bold\">Area Under Curve: </span><span style=\"color: #008080; text-decoration-color: #008080; font-weight: bold\">0.9184771635661771</span>\n",
       "</pre>\n"
      ],
      "text/plain": [
       "\u001b[1;30mArea Under Curve: \u001b[0m\u001b[1;36m0.9184771635661771\u001b[0m\n"
      ]
     },
     "metadata": {},
     "output_type": "display_data"
    }
   ],
   "source": [
    "show_KPI(CM_RF_BD, CR_RF_BD, AUC_RF_BD, 'Random Forest using Balanced Dataset')"
   ]
  },
  {
   "cell_type": "markdown",
   "metadata": {},
   "source": [
    "### Comparing Both models"
   ]
  },
  {
   "cell_type": "code",
   "execution_count": 48,
   "metadata": {},
   "outputs": [
    {
     "data": {
      "text/html": [
       "<pre style=\"white-space:pre;overflow-x:auto;line-height:normal;font-family:Menlo,'DejaVu Sans Mono',consolas,'Courier New',monospace\"><span style=\"font-weight: bold; text-decoration: underline\">Random Forest Imbalanced Dataset</span>\n",
       "</pre>\n"
      ],
      "text/plain": [
       "\u001b[1;4mRandom Forest Imbalanced Dataset\u001b[0m\n"
      ]
     },
     "metadata": {},
     "output_type": "display_data"
    },
    {
     "data": {
      "text/html": [
       "<pre style=\"white-space:pre;overflow-x:auto;line-height:normal;font-family:Menlo,'DejaVu Sans Mono',consolas,'Courier New',monospace\"><span style=\"color: #808080; text-decoration-color: #808080; font-weight: bold\">Confusion Matrix:</span>\n",
       "</pre>\n"
      ],
      "text/plain": [
       "\u001b[1;90mConfusion Matrix:\u001b[0m\n"
      ]
     },
     "metadata": {},
     "output_type": "display_data"
    },
    {
     "data": {
      "text/html": [
       "<pre style=\"white-space:pre;overflow-x:auto;line-height:normal;font-family:Menlo,'DejaVu Sans Mono',consolas,'Courier New',monospace\"><span style=\"color: #808080; text-decoration-color: #808080; font-weight: bold\">[[</span><span style=\"color: #008080; text-decoration-color: #008080; font-weight: bold\">548650</span><span style=\"color: #808080; text-decoration-color: #808080; font-weight: bold\">   </span><span style=\"color: #008080; text-decoration-color: #008080; font-weight: bold\">3810</span><span style=\"color: #808080; text-decoration-color: #808080; font-weight: bold\">]</span>\n",
       "<span style=\"color: #808080; text-decoration-color: #808080; font-weight: bold\"> [   </span><span style=\"color: #008080; text-decoration-color: #008080; font-weight: bold\">501</span><span style=\"color: #808080; text-decoration-color: #808080; font-weight: bold\">   </span><span style=\"color: #008080; text-decoration-color: #008080; font-weight: bold\">1121</span><span style=\"color: #808080; text-decoration-color: #808080; font-weight: bold\">]]</span>\n",
       "</pre>\n"
      ],
      "text/plain": [
       "\u001b[1;90m[\u001b[0m\u001b[1;90m[\u001b[0m\u001b[1;36m548650\u001b[0m\u001b[1;90m   \u001b[0m\u001b[1;36m3810\u001b[0m\u001b[1;90m]\u001b[0m\n",
       "\u001b[1;90m \u001b[0m\u001b[1;90m[\u001b[0m\u001b[1;90m   \u001b[0m\u001b[1;36m501\u001b[0m\u001b[1;90m   \u001b[0m\u001b[1;36m1121\u001b[0m\u001b[1;90m]\u001b[0m\u001b[1;90m]\u001b[0m\n"
      ]
     },
     "metadata": {},
     "output_type": "display_data"
    },
    {
     "data": {
      "text/html": [
       "<pre style=\"white-space:pre;overflow-x:auto;line-height:normal;font-family:Menlo,'DejaVu Sans Mono',consolas,'Courier New',monospace\"><span style=\"color: #808080; text-decoration-color: #808080; font-weight: bold\">Area under curve: </span><span style=\"color: #008080; text-decoration-color: #008080; font-weight: bold\">0.8421128223130057</span>\n",
       "</pre>\n"
      ],
      "text/plain": [
       "\u001b[1;90mArea under curve: \u001b[0m\u001b[1;36m0.8421128223130057\u001b[0m\n"
      ]
     },
     "metadata": {},
     "output_type": "display_data"
    },
    {
     "name": "stdout",
     "output_type": "stream",
     "text": [
      "\n"
     ]
    },
    {
     "data": {
      "text/html": [
       "<pre style=\"white-space:pre;overflow-x:auto;line-height:normal;font-family:Menlo,'DejaVu Sans Mono',consolas,'Courier New',monospace\"><span style=\"font-weight: bold; text-decoration: underline\">Random Forest Balanced Dataset</span>\n",
       "</pre>\n"
      ],
      "text/plain": [
       "\u001b[1;4mRandom Forest Balanced Dataset\u001b[0m\n"
      ]
     },
     "metadata": {},
     "output_type": "display_data"
    },
    {
     "data": {
      "text/html": [
       "<pre style=\"white-space:pre;overflow-x:auto;line-height:normal;font-family:Menlo,'DejaVu Sans Mono',consolas,'Courier New',monospace\"><span style=\"color: #808080; text-decoration-color: #808080; font-weight: bold\">Confusion Matrix:</span>\n",
       "</pre>\n"
      ],
      "text/plain": [
       "\u001b[1;90mConfusion Matrix:\u001b[0m\n"
      ]
     },
     "metadata": {},
     "output_type": "display_data"
    },
    {
     "data": {
      "text/html": [
       "<pre style=\"white-space:pre;overflow-x:auto;line-height:normal;font-family:Menlo,'DejaVu Sans Mono',consolas,'Courier New',monospace\"><span style=\"color: #808080; text-decoration-color: #808080; font-weight: bold\">[[</span><span style=\"color: #008080; text-decoration-color: #008080; font-weight: bold\">1370</span><span style=\"color: #808080; text-decoration-color: #808080; font-weight: bold\">  </span><span style=\"color: #008080; text-decoration-color: #008080; font-weight: bold\">261</span><span style=\"color: #808080; text-decoration-color: #808080; font-weight: bold\">]</span>\n",
       "<span style=\"color: #808080; text-decoration-color: #808080; font-weight: bold\"> [   </span><span style=\"color: #008080; text-decoration-color: #008080; font-weight: bold\">5</span><span style=\"color: #808080; text-decoration-color: #808080; font-weight: bold\"> </span><span style=\"color: #008080; text-decoration-color: #008080; font-weight: bold\">1650</span><span style=\"color: #808080; text-decoration-color: #808080; font-weight: bold\">]]</span>\n",
       "</pre>\n"
      ],
      "text/plain": [
       "\u001b[1;90m[\u001b[0m\u001b[1;90m[\u001b[0m\u001b[1;36m1370\u001b[0m\u001b[1;90m  \u001b[0m\u001b[1;36m261\u001b[0m\u001b[1;90m]\u001b[0m\n",
       "\u001b[1;90m \u001b[0m\u001b[1;90m[\u001b[0m\u001b[1;90m   \u001b[0m\u001b[1;36m5\u001b[0m\u001b[1;90m \u001b[0m\u001b[1;36m1650\u001b[0m\u001b[1;90m]\u001b[0m\u001b[1;90m]\u001b[0m\n"
      ]
     },
     "metadata": {},
     "output_type": "display_data"
    },
    {
     "data": {
      "text/html": [
       "<pre style=\"white-space:pre;overflow-x:auto;line-height:normal;font-family:Menlo,'DejaVu Sans Mono',consolas,'Courier New',monospace\"><span style=\"color: #808080; text-decoration-color: #808080; font-weight: bold\">Area under curve: </span><span style=\"color: #008080; text-decoration-color: #008080; font-weight: bold\">0.9184771635661771</span>\n",
       "</pre>\n"
      ],
      "text/plain": [
       "\u001b[1;90mArea under curve: \u001b[0m\u001b[1;36m0.9184771635661771\u001b[0m\n"
      ]
     },
     "metadata": {},
     "output_type": "display_data"
    }
   ],
   "source": [
    "console.print('Random Forest Imbalanced Dataset', style='bold underline')\n",
    "console.print(\"Confusion Matrix:\", style='bold bright_black')\n",
    "console.print(CM_RF_IbD, style='bold bright_black')\n",
    "console.print(\"Area under curve: {}\".format(AUC_RF_IbD), style='bold bright_black')\n",
    "print()\n",
    "console.print('Random Forest Balanced Dataset', style='bold underline')\n",
    "console.print(\"Confusion Matrix:\", style='bold bright_black')\n",
    "console.print(CM_RF_BD, style='bold bright_black')\n",
    "console.print(\"Area under curve: {}\".format(AUC_RF_BD), style='bold bright_black')"
   ]
  },
  {
   "cell_type": "markdown",
   "metadata": {},
   "source": [
    "What does the Area under Curve tells us ?\n",
    "Area Under Curve is a plot of the true positive rates (in our case, the proportion of valid transactions labelled as valid) against the false positive rate (in our case, the proportion of fraudulent transactions labelled as valid). The curve is also known as the Receiver Operating Characteristic Curve or ROC.\n",
    "\n",
    "The ideal AUC is then 1 (all transactions predicted as valid are actually valid).\n",
    "\n",
    "From the above results:\n",
    "Random Forest with Balanced Dataset has the Area under Curve closest to 1, so I can confidently say that Random forest is the right model in this scenario."
   ]
  },
  {
   "cell_type": "code",
   "execution_count": 49,
   "metadata": {},
   "outputs": [
    {
     "data": {
      "image/png": "[encoded data removed]",
      "text/plain": [
       "<Figure size 1224x504 with 1 Axes>"
      ]
     },
     "metadata": {},
     "output_type": "display_data"
    }
   ],
   "source": [
    "ncols = len(X_ind.columns)\n",
    "x = np.arange(ncols)\n",
    "# getting importances of features\n",
    "importances = RF_BD.feature_importances_\n",
    "# getting the indices of the most important feature to least important\n",
    "sort_ind = np.argsort(importances)[::-1]\n",
    "plt.figure(figsize=(17, 7))\n",
    "sns.barplot(x, importances[sort_ind])\n",
    "plt.xticks(x, tuple(X_ind.columns.values[sort_ind]))\n",
    "plt.title(\"Important Features: Greatest to Least\")\n",
    "plt.show()"
   ]
  },
  {
   "cell_type": "markdown",
   "metadata": {},
   "source": [
    "    'errorBalanceOrg' by far the important feature for classifying fraudulent transaction followed by 'newbalanceOrig' and 'oldbalanceOrg'"
   ]
  },
  {
   "cell_type": "markdown",
   "metadata": {},
   "source": [
    "## Conclusion:\n",
    "\n",
    "1) The dataset has over 63 lakh datapoints, so the ratio of valid and fraudulent transaction is heavily skewed towards valid transaction.\n",
    "\n",
    "2) Feature engineering and creation of two variables namely 'errorBalanceOrg' and 'hourOfTheDay' yielded helpful result.\n",
    "\n",
    "3) We have compared both the Random Forest using unbalanced and balanced dataset.\n",
    "\n",
    "4) Since our data is heavily skewed, the dataset is balanced using under sampling method.\n",
    "\n",
    "5) After analyzing the results the Area Under Curve is high for balanced dataset, still the there is some valid transaction is labelled  as fraud."
   ]
  }
 ],
 "metadata": {
  "kernelspec": {
   "display_name": "Python 3",
   "language": "python",
   "name": "python3"
  },
  "language_info": {
   "codemirror_mode": {
    "name": "ipython",
    "version": 3
   },
   "file_extension": ".py",
   "mimetype": "text/x-python",
   "name": "python",
   "nbconvert_exporter": "python",
   "pygments_lexer": "ipython3",
   "version": "3.8.5"
  }
 },
 "nbformat": 4,
 "nbformat_minor": 4
}
